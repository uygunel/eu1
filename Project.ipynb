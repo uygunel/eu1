{
 "cells": [
  {
   "cell_type": "markdown",
   "metadata": {},
   "source": [
    "# Project Title\n",
    "\n",
    "## Members\n",
    "\n",
    "1. First member: Elif Uygun uygunel@itu.edu.tr\n",
    "2. Second member: Gamze Kaptan kaptang@itu.edu.tr\n",
    "\n",
    "## Description of the project\n",
    "\n",
    "R üzerinde Karar ağaçları ve lojistik regresyon algoritmaları ile veri analizi\n",
    "\n",
    "### The methods to be used\n",
    "\n",
    "1) Decision Tree : \n",
    "Karar ağaçları sınıflandırma ve tahmin için sıkça kullanılan bir veri madenciliği yaklaşımıdır. Bir karara varmak için çeşitli adımlardan oluşan bu algoritmada adımların olası değerleri bir ağaç (tree) üzerinde gösterilir. Birçok sınıflandırma metodu olmasına rağmen karar ağaçları;\n",
    "•\tDüşük maliyetli olması\n",
    "•\tAnlaşılmasının, yorumlanmasının kolay olması\n",
    "•\tVeri tabanları ile bağlantısının kolay olması\n",
    "•\tGüvenirliliğinin fazla olması\n",
    "gibi avantajları bakımından tahminleme amacıyla kullanılan başlıca algoritmalardandır. \n",
    "(https://www.mmo.org.tr/sites/default/files/ab225c69b017f13_ek.pdf)\n",
    "Karar ağaçları verileri daha küçük verilere bölerek ilerler. Karar ağaçları karar düğümleri (decision nodes) ve yapraklardan (leaf nodes) oluşan bir yapıdır. Karar düğümü iki ya da daha fazla daldan oluşur. Yaprak düğümü ise tahmin sonucunun olduğu yapıdır. \n",
    "Algoritmanın adımları şu şekildedir : \n",
    "1)\tT öğrenme kümesini oluştur.\n",
    "2)\tT kümesindeki örnekleri en iyi ayıran niteliği belirle.\n",
    "3)\tSeçilen nitelik ile ağacın bir düğümünü oluştur ve bu düğümden alt düğümleri veya yaprak düğümünü oluştur. Alt düğümlere ait alt veri kümesinin örneklerini incele.\n",
    "4)\t3. Adımda oluşturulan her alt veri kümesi için \n",
    "•\tÖrneklerin hepsi aynı sınıfa ait\n",
    "•\tÖrnekleri bölecek özellik kalmamış\n",
    "•\tKalan özelliklerin değerini taşıyan örnek kalmayıncaya kadar devam eder.\n",
    "İşlemi sonlandır. Diğer durumda alt veri kümesini ayırmak için 2. Adımdan devam edilir. Buradaki 2. Adımdaki en iyi ayrılan nitelik kök düğümümüzü oluşturur. Karar ağacındaki kök düğümü veriset içerisindeki en iyi tahminleyicidir. Peki bu kök düğümüne nasıl karar verilir? Verisetimizdeki her attribute için ayrı ayrı bilgi kazancı hesaplanır ve bilgi kazancı en yüksek olanlar kök olarak alınır. Bilgi kazancı ölçümünde Entropy kullanılır. Entropy, belirsizliğin ve beklenmeyen durumun ortaya çıkma olasılığını gösterir. \n",
    "Entropy şu şekilde hesaplanır : \n",
    " \n",
    " \n",
    " 2) Logistic Regression\n",
    "\n",
    "### The data\n",
    "\n",
    "Dataset : Bank Marketing\n",
    "Bu veri setimiz Portekiz'e ait bir bankanın pazarlama kampanyası için olası müşterilerilerin özelliklerini içermektedir. Bu kampanyalar telefonla tablodaki müşteriler aranarak yapılmaktadır. Eğer müşteri kampanyayı yani bankaya ait mevduatı almayı kabul ederse birkaç defa daha iletişime geçilmektedir. Bank.csv tablomuzda 4521 tane instance olup, 16 tane attribute bulunmaktadır. Bu attributelar instance'lara ait özelliklerdir. Bu attribute'lara bakacak olursak ;\n",
    "1) age: Müşterilere ait yaş bilgisini içerir. Sayısal bir değerdir. \n",
    "2) job: Müşterilerin meslek bilgisini içerir.Kategorik olup admin, unknown, unemployed, management, housemaid, entrepreneur, student, blue-collar, self-employed, retired, techinician, services şeklinde 12 tane meslek çeşidi bulunmaktadır.\n",
    "3) marital: Müşterilerin medeni durumlarını içermektedir. Kategorik olup married, divorced, single 3 çeşit medeni hal durumu içermektedir.\n",
    "4) education: Müşterilere ait eğitim bilgilerini içermektedir.Kategorik olup unknown, secondary, primary, tertiary olarak 3 eğitim türü içermektedir.\n",
    "5) default: Müşterinin bankada kredisi olup olmadığı bilgisini içerir. Kategorik olup Yes, No şeklinde 2 tür içerir.\n",
    "6) balance: Müşterinin ortalama yıllık bakiyesini euro olarak ifade etmektedir. Sayısal bir değerdir.\n",
    "7) housing: Müşterinin konut kredisi olup olmadığı bilgisini içerir. Kategorik olup Yes, No şeklinde 2 tür içerir.\n",
    "8) loan:  Müşterinin bireysel kredisinin olup olmadığı bilgisini içerir.Kategorik olup Yes, No şeklinde 2 tür içerir.\n",
    "9) contact: Müşteriye ait iletişim tipini belirtir. Kategorik olup unknown, telephone, cellular şeklinde 3 tür içerir.\n",
    "10) day: Bu kampanya için müşteriyle en son iletişime geçirilen ayın gün bilgisini içerir. Sayısal bir değerdir.\n",
    "11) month: Bu kampanya için müşteriyle en son iletişime geçirilen ayın bilgisini içerir. \n",
    "12) duration:Bu kampanya için müşteriyle en son iletişime  geçirilen görüşmenin saniye olarak süresini içerir.\n",
    "13) campaign: Bu kampanyada bir müşteri için kaç kez iletişime geçtiğinin bilgisini içerir. Sayısal bir değerdir.\n",
    "14) pdays: Bir önceki kampanyada müşteri ile en son iletişime geçilmesinden sonra kaç gün geçtiğini gösterir.\n",
    "15) previous: Bir önceki kampanyada müşteri ile iletişime kaç defa geçirildiğinin bilgisini içerir.\n",
    "16) poutcome: Müşterinin bir önceki kampanyadaki ürünü alıp almadığı sonucunu içerir. Kategorik olup  unknown, other, failure, success şeklinde 4 tür içerir.\n",
    "\n",
    "\n",
    "https://archive.ics.uci.edu/ml/datasets/Bank+Marketing\n",
    "\n",
    "\n",
    "## Code\n",
    "\n",
    "As proof of work, you must run this notebook.  Upload an HTML output of this notebook on your github account."
   ]
  },
  {
   "cell_type": "code",
   "execution_count": null,
   "metadata": {
    "collapsed": false
   },
   "outputs": [],
   "source": [
    "data <- read.csv(\"https://archive.ics.uci.edu/ml/machine-learning-databases/wine/wine.data\", header=FALSE)\n",
    "head(data)"
   ]
  },
  {
   "cell_type": "code",
   "execution_count": null,
   "metadata": {
    "collapsed": false
   },
   "outputs": [],
   "source": [
    "hist(data$V4)"
   ]
  }
 ],
 "metadata": {
  "kernelspec": {
   "display_name": "R",
   "language": "R",
   "name": "ir"
  },
  "language_info": {
   "codemirror_mode": "r",
   "file_extension": ".r",
   "mimetype": "text/x-r-source",
   "name": "R",
   "pygments_lexer": "r",
   "version": "3.3.2"
  }
 },
 "nbformat": 4,
 "nbformat_minor": 2
}
