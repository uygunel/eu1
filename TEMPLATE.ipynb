{
 "cells": [
  {
   "cell_type": "markdown",
   "metadata": {
    "deletable": true,
    "editable": true
   },
   "source": [
    "# Karar Ağaçları ve Lojistik Regresyon Algoritmalarının R üzerinde karşılaştırılması\n",
    "\n",
    "## Üyeler\n",
    "\n",
    "1. Birinci üye: Elif Uygun uygunel@itu.edu.tr\n",
    "2. İkinci Üye: Gamze Kaptan kaptang@itu.edu.tr\n",
    "\n",
    "## Projenin tanımı\n",
    "\n",
    "Bu projede bir veri seti üzerinde karar ağaçları(Decision Tree) ve lojistik regresyon (Logistic Regression) algoritmaları kullanılarak veri setinin analizinin yapılması amaçlanmaktadır.R Studio üzerinde R'nin kendisine ait kütüphaneleri(library) kullanılarak sonuç alınacaktır. Veri setimizde bulunan nitelikler(attribute) her iki algoritmada sonuca ulaşmak için oldukça önemlidir. Veri setimiz bir bankanın veritabanından alınmış olup bankadaki müşteri bilgilerini içermektedir.Decision Tree ve Logistic Regression algoritmaları ile beraber müşterilere ait bu bilgiler kullanılarak bu müşterilerden hangilerine kredi verilip hangilerine verilmemesinin uygun olduğunun analizi yapılacaktır. Daha sonra bu iki algoritma karşılaştırılarak hangi algoritmanın daha iyi sonuç aldığı gözlemlenecektir.\n",
    "\n",
    "### Karar Ağaçları ve Karar Ağaçları Algoritması\n",
    "\n",
    "Karar Ağaçları sınıflama, özellik ve hedefe göre karar düğümleri(decision nodes) ve yaprak düğümlerinden(leaf nodes) oluşan ağaç yapısı formunda bir model oluşturan bir sınıflandırma yönetimidir. Sınıflandırma ve tahmin için sıkça kullanılan bir veri madenciliği(data mining) yaklaşımıdır. Bir karar alıcı tarafından tercihlerin, risklerin, kazançların ve hedeflerin tanımlanmasında yardımcı olmak için çeşitli karar düğümleri incelenebilir. Bu model, bir karar alıcıya karar alırken hangi faktörlerin göz önüne alınmasının belirlenmesinde yardımcı olur. Sinir ağları gibi diğer metodolojilerin de sınıflandırma için kullanılmasına rağmen, karar ağaçları, kolay yorumu ve anlaşılabilirliği açısından karar vericiler açısından avantaj sağlamaktadır. \n",
    "Karar ağaçları;  \n",
    "\n",
    "+ Düşük maliyetli olması,  \n",
    "+ Anlaşılmasının,yorumlanmasının ve veritabanları ile entegrasyonunun kolay olması,  \n",
    "+ Çoğu makine öğrenmesi algoritması ya sayısal ya da sınıflandırma verileri için kullanışlı olmasına rağmen karar ağaçlarının her iki veri tipinin işlenmesi için kullanılması,  \n",
    "+ Güvenirliliklerinin iyi olması,  \n",
    "+ Yüksek miktardaki veriyi kısa sürede işleyebilmesi gibi nedenlerden dolayı en yaygın kullanılan sınıflandırma tekniklerinden biridir. \n",
    "\n",
    "Karar ağacı algoritması, veri setini küçük ve daha küçük parçalara bölerek geliştirilir. Karar ağacı tekniğini kullanarak verinin sınıflanması, öğrenme ve sınıflama olmak üzere iki aşamalıdır. Öğrenme aşamasında bir tane öğrenme kümesi oluşturulur. Bu öğrenme kümesindeki örnekleri(instance) en iyi ayıran nitelik(attribute) belirlenir. En iyi nitelik ağacın kök düğümü(root node) olmuş olur. Daha sonra bu kök düğümün alt düğümleri, alt düğümlerin de yine alt düğümleri veya yaprak düğümleri oluşturulur. Bu şekilde veriler küçük ve daha küçük verilere bölünmüş olur. Daha küçük verilere ayırma işlemi örneklerin(instance) hepsi aynı sınıfa ait, örnekleri(instance) bölecek nitelik(attribute) kalmamış, kalan niteliklerin(attribute) özelliklerini taşıyacak örnek(instance) kalmayana kadar devam eder ve yaprak düğümleriyle sonlanır. Sınıflama aşamasında ise test verisi, karar ağacının doğruluğunu belirlemek amacıyla kullanılır. Veri setleri birçok nitelikten(attribute) oluşmaktadır.Bu nitelikler veriyi daha iyi tanımamıza yardımcı olmaktadır. Öğrenme aşamasında örnekleri en iyi ayıran niteliğin belirlenip o niteliğin kök düğüm olduğunu söylemiştik. Veri setindeki en iyi niteliğin belirlenmesi için kullanılan en yaygın yöntem **Entropi** ölçümüdür. \n",
    "\n",
    "Entropi kimyada bilinen anlamıyla rastgeleliğin,belirsizliğin ve beklenmeyen durumun ortaya çıkma olasılığını gösterir.Veri madenciliği yaklaşımında da aynı anlama geldiğinden dolayı en iyi niteliğin belirlenmesinde entropi ölçüsü en az olan nitelikler kullanılır. Çünkü entropisi yüksek olan nitelik o oranda belirsiz ve kararsızdır.\n",
    "Verilen bir $$A_K$$ alanının Entropi ölçüsünü bulan formüller şu şekildedir:\n",
    "$$E(C|A_K)=  \\sum_{j=1}^{M_K}  p(a_k,j)*[-\\sum_{i=1}^{N}  p(c_i|a_k,j)log_2p(c_i|a_k,j)]$$ (1)\n",
    "\n",
    "Bu formülde;\n",
    "                $$E(C|A_K)=  A_K$$  \n",
    "                \n",
    "alanının  sınıflama  özelliğinin  Entropi  ölçüs,\n",
    "$p(a_k,j)=a_k$ alanının j değerinde olma olasılığı,                          \n",
    "$p(c_i|a_k,j)= a_k$ alanı j. değerindeyken sınıf değerinin c_i olma olasılığı, \n",
    "M_k = a_k  alanının içerdiği değerlerin sayısı; j = 1,2,., M_k, \n",
    "N = farklı sınıfların sayısı; i = 1, 2,…, N,\n",
    "K = niteliklerin sayısı; k = 1,2,…, K\n",
    "Eğer bir S kümesindeki elemanlar, kategorik olarak C_1,C_2,C_3,...,C_i sınıflarına ayrıştırılırsa, S kümesindeki bir elemanın sınıfını belirlemek için gereken bilgi şu formülle hesaplanmaktadır.\n",
    "\n",
    "$$I(s_1,s_2,....s_m)=-\\sum_{i=1}^{m} p_ilog_2(p_i)$$  \n",
    "\n",
    "Bu formülde p_i,C_i  sınıfına ayrılma olasılığıdır. Entropi denklemi şu şekilde de ifade edilebilir.  \n",
    "\n",
    "$$E(A)=  \\sum_{i=1}^{n} \\left( \\frac{S_i}{S} \\right) I(s_i)$$\n",
    "\n",
    "Bu durumda A niteliği kullanılarak yapılacak dallanma işleminde, bilgi kazancı(information gain) şu formülle hesaplanmaktadır.\n",
    "\n",
    "$$Kazanç(A)=E(S)-E(A)$$  \n",
    "\n",
    "Burada *E(S)*; sistemin entropi değeri olup *E(A)* ise A niteliğinin entropi değeridir. Her özellik için ayrı ayrı bilgi kazancı hesaplanır ve bilgi kazancı en yüksek olan nitelik ağacın en üstünde konumlanarak kök düğüm olmuş olur. Bu işlemler her düğüm için örneklerin hepsi aynı sınıfa ait, örnekleri bölecek özellik kalmamış, kalan özelliklerin değerini taşıyan örnek olmayana kadar devam eder. Ve bu adımlar tamamlanarak karar agacı tamamlanmış olur.Şimdi az örnekli bir veri seti üzerinde bu algoritmayı göstermeye çalışalım. \n",
    "\n",
    "\n",
    "\n",
    "\n",
    "\n",
    "\n",
    "\n"
   ]
  },
  {
   "cell_type": "markdown",
   "metadata": {
    "collapsed": false,
    "deletable": true,
    "editable": true
   },
   "source": [
    "\n",
    "### Veri Seti:\n",
    "Bu veri setimiz Portekiz'e ait bir bankanın pazarlama kampanyası için olası müşterilerilerin özelliklerini içermektedir. Bu kampanyalar telefonla müşteriler aranılarak yapılmaktadır. Eğer müşteri kampanyayı yani bankaya ait mevduatı almayı kabul ederse birkaç defa daha iletişime geçilmektedir. Bank.csv tablomuzda 4521 tane örnek(instance) olup, 16+karar (y) niteliği (attribute) bulunmaktadır. Bu nitelikler örneklere ait özelliklerdir ve veriyi tanımamıza yardımcı olur. Bu niteliklere bakılacak olursa;  \n",
    " 1. **age**: Müşterilere ait yaş bilgisini içerir. Sayısal bir değerdir.  \n",
    " 2. **job**: Müşterilerin meslek bilgisini içerir.Kategorik olup *admin, unknown, unemployed, management, housemaid, entrepreneur, student, blue-collar, self-employed, retired, techinician, services* şeklinde 12 çeşittir.  \n",
    " 3. **marital**: Müşterilerin medeni durumlarını içermektedir. Kategorik olup *married, divorced, single* şeklinde 3 çeşittir.    \n",
    " 4. **education**: Müşterilere ait eğitim bilgilerini içermektedir.Kategorik olup *unknown, secondary, primary, tertiary* şeklinde 4 çeşittir.  \n",
    " 5. **default**: Müşterinin bankada kredisi olup olmadığının bilgisini içerir. Kategorik olup Yes, No şeklinde 2 çeşittir.  \n",
    " 6. **balance**: Müşterinin ortalama yıllık bakiyesini euro olarak ifade etmektedir. Sayısal bir değerdir.  \n",
    " 7. **housing**: Müşterinin konut kredisi olup olmadığının bilgisini içerir. Kategorik olup Yes, No şeklinde 2 çeşittir.      \n",
    " 8. **loan**: Müşterinin bireysel kredisinin olup olmadığının bilgisini içerir.Kategorik olup Yes, No şeklinde 2 çeşittir.  \n",
    " 9. **contact**: Müşteriye ait iletişim tipini belirtir. Kategorik olup unknown, telephone, cellular şeklinde 3 çeşittir.  \n",
    " 10. **day**: Bu kampanya için müşteriyle en son iletişime geçirilen ayın gün bilgisini içerir. Sayısal bir değerdir.  \n",
    " 11. **month**: Bu kampanya için müşteriyle en son iletişime geçirilen ayın bilgisini içerir. Kategorik bir değer olup *jan,feb,mar,apr,may,june,july,aug,sep,oct,nov,dec* şeklinde 12 çeşittir.  \n",
    " 12. **duration**:Bu kampanya için müşteriyle en son iletişime geçirilen görüşmenin saniye olarak süresini içerir. Sayısal bir değerdir.  \n",
    " 13. **campaign**: Bu kampanyada bir müşteri için kaç kez iletişime geçtiğinin bilgisini içerir. Sayısal bir değerdir.  \n",
    " 14. **pdays**: Bir önceki kampanyada müşteri ile en son iletişime geçilmesinden sonra kaç gün geçtiğini gösterir. Sayısal bir değerdir. Burada bulunan -1 değeri daha önce iletişime geçilmediğini göstermektedir.   \n",
    " 15. **previous**: Bir önceki kampanyada müşteri ile iletişime kaç defa geçirildiğinin bilgisini içerir. Sayısal bir değerdir.  \n",
    " 16. **poutcome**: Müşterinin bir önceki kampanyadaki ürünü alıp almadığının sonucunu içerir. Kategorik olup *unknown, other, failure, success* şeklinde 4 çeşittir.  \n",
    " 17. **y**:  Müşteri ile ilgili kredi verilip verilmemesinin kararının verildiği alandır. Kategorik olup Yes, No şeklinde 2 çeşittir.  \n",
    " \n",
    " Uygulama kısmında veri madenciliği çözümleri ile hem istatistik kökenli uygulamaları hem de yapay zeka kökenli algoritmaları bir programlama arayüzü altında sunan R Studio'dan yararlanılmıştır. Banka verisine ait veri kümesi txt olarak düzenlenmiştir. \n",
    " "
   ]
  },
  {
   "cell_type": "code",
   "execution_count": 7,
   "metadata": {
    "collapsed": false,
    "deletable": true,
    "editable": true
   },
   "outputs": [
    {
     "data": {
      "text/html": [
       "<table>\n",
       "<thead><tr><th scope=col>age</th><th scope=col>job</th><th scope=col>marital</th><th scope=col>education</th><th scope=col>default</th><th scope=col>balance</th><th scope=col>housing</th><th scope=col>loan</th><th scope=col>contact</th><th scope=col>day</th><th scope=col>month</th><th scope=col>duration</th><th scope=col>campaign</th><th scope=col>pdays</th><th scope=col>previous</th><th scope=col>poutcome</th><th scope=col>y</th></tr></thead>\n",
       "<tbody>\n",
       "\t<tr><td>30         </td><td>unemployed </td><td>married    </td><td>primary    </td><td>no         </td><td>1787       </td><td>no         </td><td>no         </td><td>cellular   </td><td>19         </td><td>oct        </td><td> 79        </td><td>1          </td><td> -1        </td><td>0          </td><td>unknown    </td><td>no         </td></tr>\n",
       "\t<tr><td>33         </td><td>services   </td><td>married    </td><td>secondary  </td><td>no         </td><td>4789       </td><td>yes        </td><td>yes        </td><td>cellular   </td><td>11         </td><td>may        </td><td>220        </td><td>1          </td><td>339        </td><td>4          </td><td>failure    </td><td>no         </td></tr>\n",
       "\t<tr><td>35         </td><td>management </td><td>single     </td><td>tertiary   </td><td>no         </td><td>1350       </td><td>yes        </td><td>no         </td><td>cellular   </td><td>16         </td><td>apr        </td><td>185        </td><td>1          </td><td>330        </td><td>1          </td><td>failure    </td><td>no         </td></tr>\n",
       "\t<tr><td>30         </td><td>management </td><td>married    </td><td>tertiary   </td><td>no         </td><td>1476       </td><td>yes        </td><td>yes        </td><td>unknown    </td><td> 3         </td><td>jun        </td><td>199        </td><td>4          </td><td> -1        </td><td>0          </td><td>unknown    </td><td>no         </td></tr>\n",
       "\t<tr><td>59         </td><td>blue-collar</td><td>married    </td><td>secondary  </td><td>no         </td><td>   0       </td><td>yes        </td><td>no         </td><td>unknown    </td><td> 5         </td><td>may        </td><td>226        </td><td>1          </td><td> -1        </td><td>0          </td><td>unknown    </td><td>no         </td></tr>\n",
       "\t<tr><td>35         </td><td>management </td><td>single     </td><td>tertiary   </td><td>no         </td><td> 747       </td><td>no         </td><td>no         </td><td>cellular   </td><td>23         </td><td>feb        </td><td>141        </td><td>2          </td><td>176        </td><td>3          </td><td>failure    </td><td>no         </td></tr>\n",
       "</tbody>\n",
       "</table>\n"
      ],
      "text/latex": [
       "\\begin{tabular}{r|lllllllllllllllll}\n",
       " age & job & marital & education & default & balance & housing & loan & contact & day & month & duration & campaign & pdays & previous & poutcome & y\\\\\n",
       "\\hline\n",
       "\t 30          & unemployed  & married     & primary     & no          & 1787        & no          & no          & cellular    & 19          & oct         &  79         & 1           &  -1         & 0           & unknown     & no         \\\\\n",
       "\t 33          & services    & married     & secondary   & no          & 4789        & yes         & yes         & cellular    & 11          & may         & 220         & 1           & 339         & 4           & failure     & no         \\\\\n",
       "\t 35          & management  & single      & tertiary    & no          & 1350        & yes         & no          & cellular    & 16          & apr         & 185         & 1           & 330         & 1           & failure     & no         \\\\\n",
       "\t 30          & management  & married     & tertiary    & no          & 1476        & yes         & yes         & unknown     &  3          & jun         & 199         & 4           &  -1         & 0           & unknown     & no         \\\\\n",
       "\t 59          & blue-collar & married     & secondary   & no          &    0        & yes         & no          & unknown     &  5          & may         & 226         & 1           &  -1         & 0           & unknown     & no         \\\\\n",
       "\t 35          & management  & single      & tertiary    & no          &  747        & no          & no          & cellular    & 23          & feb         & 141         & 2           & 176         & 3           & failure     & no         \\\\\n",
       "\\end{tabular}\n"
      ],
      "text/markdown": [
       "\n",
       "age | job | marital | education | default | balance | housing | loan | contact | day | month | duration | campaign | pdays | previous | poutcome | y | \n",
       "|---|---|---|---|---|---|\n",
       "| 30          | unemployed  | married     | primary     | no          | 1787        | no          | no          | cellular    | 19          | oct         |  79         | 1           |  -1         | 0           | unknown     | no          | \n",
       "| 33          | services    | married     | secondary   | no          | 4789        | yes         | yes         | cellular    | 11          | may         | 220         | 1           | 339         | 4           | failure     | no          | \n",
       "| 35          | management  | single      | tertiary    | no          | 1350        | yes         | no          | cellular    | 16          | apr         | 185         | 1           | 330         | 1           | failure     | no          | \n",
       "| 30          | management  | married     | tertiary    | no          | 1476        | yes         | yes         | unknown     |  3          | jun         | 199         | 4           |  -1         | 0           | unknown     | no          | \n",
       "| 59          | blue-collar | married     | secondary   | no          |    0        | yes         | no          | unknown     |  5          | may         | 226         | 1           |  -1         | 0           | unknown     | no          | \n",
       "| 35          | management  | single      | tertiary    | no          |  747        | no          | no          | cellular    | 23          | feb         | 141         | 2           | 176         | 3           | failure     | no          | \n",
       "\n",
       "\n"
      ],
      "text/plain": [
       "  age job         marital education default balance housing loan contact  day\n",
       "1 30  unemployed  married primary   no      1787    no      no   cellular 19 \n",
       "2 33  services    married secondary no      4789    yes     yes  cellular 11 \n",
       "3 35  management  single  tertiary  no      1350    yes     no   cellular 16 \n",
       "4 30  management  married tertiary  no      1476    yes     yes  unknown   3 \n",
       "5 59  blue-collar married secondary no         0    yes     no   unknown   5 \n",
       "6 35  management  single  tertiary  no       747    no      no   cellular 23 \n",
       "  month duration campaign pdays previous poutcome y \n",
       "1 oct    79      1         -1   0        unknown  no\n",
       "2 may   220      1        339   4        failure  no\n",
       "3 apr   185      1        330   1        failure  no\n",
       "4 jun   199      4         -1   0        unknown  no\n",
       "5 may   226      1         -1   0        unknown  no\n",
       "6 feb   141      2        176   3        failure  no"
      ]
     },
     "metadata": {},
     "output_type": "display_data"
    }
   ],
   "source": [
    "data<-read.table(\"Banka.txt\",header=T,sep=\"\\t\")\n",
    "head(data)"
   ]
  },
  {
   "cell_type": "markdown",
   "metadata": {},
   "source": [
    "**read.table** fonksiyonu dosyayı tablo formatında okur ve dosyadaki alanlara ve satırlara karşılık gelen durumlarla ilgili olarak bir veri çerçevesi oluşturur.\n",
    "#### read.table Kullanımı  \n",
    "read.table(<span style=\"color:blue\"> file, </span> <span style=\"color:black\"> header=FALSE, </span> <span style=\"color:red\"> sep=\"\", </span>) şeklindedir.  \n",
    "Burada *file* parametresi okunacak verinin dosya ismidir. Buraya dosyanın tam yolu yazılabileceği gibi sadece adı da yazılabilir. Eğer ki dosya R'nin çalıştığı dizinde bulunuyorsa dosyanın sadece adını yazmak yeterlidir. *Getwd() *komutu ile R'nin çalıştığı dizinin yolu öğrenilir.  "
   ]
  },
  {
   "cell_type": "code",
   "execution_count": 11,
   "metadata": {
    "collapsed": false
   },
   "outputs": [
    {
     "data": {
      "text/html": [
       "'C:/Users/Elif'"
      ],
      "text/latex": [
       "'C:/Users/Elif'"
      ],
      "text/markdown": [
       "'C:/Users/Elif'"
      ],
      "text/plain": [
       "[1] \"C:/Users/Elif\""
      ]
     },
     "metadata": {},
     "output_type": "display_data"
    }
   ],
   "source": [
    "getwd()"
   ]
  },
  {
   "cell_type": "markdown",
   "metadata": {},
   "source": [
    "Bu bilgisayarda R'nin çalıştığı dizin C'de Users'ın altında Elif dizininin olduğu yerdedir. Banka dosyamızı bu dizinin altına koyduğumuz için sadece dosya adını ve uzantısını yazmamız yeterli oldu.  \n",
    "*header* parametresi; dosyadaki değişkenlerin adlarını ilk satırda içerip içermediğinin bilgisini içeren mantıksal bir değerdir. Default olarak FALSE değerindedir. Banka dosyamızda ilk satır değişkenlerin ismi yazılmıştır. \n",
    "*sep* parametresi ayırıcı karakterdir. Satırlardaki her bir değerin birbirinden nasıl ayrıldığını belirtmek için kullanılır. Default değeri \"\" şeklindedir. Bizim verimizde değerler birbirinden tab ile ayrıldıklarından dolayı sep=\"\\t\" 'dir. Veri setimizi data isimli bir değişkene atadık. Veri setimiz 4521 satırlık olduğundan dolayı bütün satırları yazmak yerine head fonksiyonu ile ilk 6 satır yazılmış oldu.  \n",
    "**Örneğin;** ilk örneğimiz 30 yaşında, işsiz, evli, ilkokul mezunu, aylık geliri 1787 euro olan, en son iletişime 19 ekimde 79 sn'lik bir telefon görüşmesiyle geçilmiş, önceki kampanyadaki ürünü alıp almadığı bilinmeyen bir müşteridir.\n"
   ]
  },
  {
   "cell_type": "code",
   "execution_count": 12,
   "metadata": {
    "collapsed": false
   },
   "outputs": [
    {
     "data": {
      "text/plain": [
       "      age                 job          marital         education    default   \n",
       " Min.   :19.00   management :969   divorced: 528   primary  : 678   no :4445  \n",
       " 1st Qu.:33.00   blue-collar:946   married :2797   secondary:2306   yes:  76  \n",
       " Median :39.00   technician :768   single  :1196   tertiary :1350             \n",
       " Mean   :41.17   admin.     :478                   unknown  : 187             \n",
       " 3rd Qu.:49.00   services   :417                                              \n",
       " Max.   :87.00   retired    :230                                              \n",
       "                 (Other)    :713                                              \n",
       "    balance      housing     loan           contact          day       \n",
       " Min.   :-3313   no :1962   no :3830   cellular :2896   Min.   : 1.00  \n",
       " 1st Qu.:   69   yes:2559   yes: 691   telephone: 301   1st Qu.: 9.00  \n",
       " Median :  444                         unknown  :1324   Median :16.00  \n",
       " Mean   : 1423                                          Mean   :15.92  \n",
       " 3rd Qu.: 1480                                          3rd Qu.:21.00  \n",
       " Max.   :71188                                          Max.   :31.00  \n",
       "                                                                       \n",
       "     month         duration       campaign          pdays       \n",
       " may    :1398   Min.   :   4   Min.   : 1.000   Min.   : -1.00  \n",
       " jul    : 706   1st Qu.: 104   1st Qu.: 1.000   1st Qu.: -1.00  \n",
       " aug    : 633   Median : 185   Median : 2.000   Median : -1.00  \n",
       " jun    : 531   Mean   : 264   Mean   : 2.794   Mean   : 39.77  \n",
       " nov    : 389   3rd Qu.: 329   3rd Qu.: 3.000   3rd Qu.: -1.00  \n",
       " apr    : 293   Max.   :3025   Max.   :50.000   Max.   :871.00  \n",
       " (Other): 571                                                   \n",
       "    previous          poutcome      y       \n",
       " Min.   : 0.0000   failure: 490   no :4000  \n",
       " 1st Qu.: 0.0000   other  : 197   yes: 521  \n",
       " Median : 0.0000   success: 129             \n",
       " Mean   : 0.5426   unknown:3705             \n",
       " 3rd Qu.: 0.0000                            \n",
       " Max.   :25.0000                            \n",
       "                                            "
      ]
     },
     "metadata": {},
     "output_type": "display_data"
    }
   ],
   "source": [
    "summary(data)"
   ]
  },
  {
   "cell_type": "markdown",
   "metadata": {},
   "source": [
    "Summary fonksiyonu çeşitli model oluşturma fonksiyonlarının sonuç özetlerini üretmek için kullanılan genel işlevli bir fonksiyondur.Summary fonksiyonu ile sayısal değerli niteliklerin en düşük değeri, en yüksek değeri, ortalaması gibi özellikleri verilirken kategorik değerli niteliklerin ise herbir kategoriden kaç tane olduğunun özeti verilmektedir. Bir veya iki değişkeni seçip onları görselleyerek veri kümesiyle ilgili bazı analizler yapalım: "
   ]
  },
  {
   "cell_type": "code",
   "execution_count": 18,
   "metadata": {
    "collapsed": false
   },
   "outputs": [
    {
     "data": {
      "image/png": "[encoded data removed]",
      "text/plain": [
       "Plot with title \"Histogram of data$age\""
      ]
     },
     "metadata": {},
     "output_type": "display_data"
    }
   ],
   "source": [
    "hist(data$age, col = \"light blue\", freq = TRUE,labels=TRUE)"
   ]
  },
  {
   "cell_type": "markdown",
   "metadata": {},
   "source": [
    "Banka veri kümesinde bulunan çeşitli nitelikler sayesinde müşteri kararının tahmin edilmesi için karar ağacı algoritmalarından faydalanılmıştır. R'nin kendisine ait olan rpart ve party kütüphaneleri kullanılmıştır.  Brieman, Friedman, Olshen ve Stone tarafından 1984 tarihinde geliştirilen sınıflandırma ve regresyon ağaçları(classification and regression trees(CART)) rpart paketi aracılığıyla üretilir.\n"
   ]
  },
  {
   "cell_type": "code",
   "execution_count": 1,
   "metadata": {
    "collapsed": false
   },
   "outputs": [
    {
     "name": "stderr",
     "output_type": "stream",
     "text": [
      "Warning message:\n",
      "\"package 'rpart.plot' was built under R version 3.3.3\""
     ]
    },
    {
     "data": {
      "image/png": "[encoded data removed]",
      "text/plain": [
       "plot without title"
      ]
     },
     "metadata": {},
     "output_type": "display_data"
    }
   ],
   "source": [
    "library(rpart)\n",
    "library(rpart.plot)\n",
    "data<-read.table(\"Banka.txt\",header=T,sep=\"\\t\")\n",
    "elif<-rpart(y~.,data=data,method=\"class\")\n",
    "prp(elif,cex=0.9,box.palette=c(\"red\",\"palegreen3\"),extra=1)\n",
    "legend(\"bottomright\",legend=c(\"yes\",\"no\"),box.col=c(\"red\",\"green\"))\n",
    "\n"
   ]
  },
  {
   "cell_type": "markdown",
   "metadata": {
    "collapsed": false
   },
   "source": [
    "rpart ve rpart.plot paketleri R'nin çalıştığı dizine install.packages(\"rpart\") ve install.packages(\"rpart.plot\") kodları ile yüklenmiştir. rpart ile sınıflandırma ve regresyon analizleri yapılmaktadır.  \n",
    "#####  rpart Genel Kullanımı \n",
    "**rpart**(*formula,data,method,*).  \n",
    "Parametrelerin kullanımı,  \n",
    "formul=*sonuç~nitelik1+nitelik2+..... Banka verisinde sonucumuz y alanında saklıdır. 16 tane nitelik olduğundan tek tek yazmak yerine **.** yazılmıştır.,  \n",
    "data=Veri kümesi,  \n",
    "method=\"class\" (sınıflandırma ağacı için), \"anova\" (regresyon ağacı için)*  Sınıflandırma ağacı oluşturalacağı için **class** yazılmıştır.  \n",
    "Yaygın kullanımı 3 parametreli şekildedir. *control, weights, subset* şeklinde opsiyonel parametreler de alabilir. \n",
    "#### prp Genel Kullanımı\n",
    "rpart.plot paketinin içinde kullanılan bir fonksiyondur.  \n",
    "**prp(x,cex,box.pallet,extra)**  \n",
    "Parametrelerin kullanımı;  \n",
    "*x* rpart nesnesidir. Tek zorunlu argumandır.  \n",
    "*cex* ile yazı boyutu ayarlanır.  \n",
    "*box.palette* ile düğüm sonucunda bulunan farklı değerler renklendirilir.  \n",
    "*extra=1* ile düğüm sonucunda bulunan sayısal değerler yazılır."
   ]
  },
  {
   "cell_type": "markdown",
   "metadata": {
    "collapsed": true
   },
   "source": [
    "#### Karar Ağacının Yorumlanması:  \n",
    "1. Ağacın kök düğümünü mevduatı satmaya çalışan banka çalışanlarının müşterilerle telefonda yaptığı görüşmenin süresi(duration) oluşturmaktadır. Müşteri sayısı 4521 olan bir ortamda müşterilerin 4162'si telefonla 646 sn'den daha az konuşurken 359'u 646 sn'den daha fazla konuşmuştur.  \n",
    "2. 646 sn'den daha az konuşan 4162 müşterinin yaklaşık 4047'si bir önceki kampanyadaki ürünü almamış(failure), ürünü alıp almadığı bilinmeyen(unknown) ve diğer durumda(other) olan müşteriler iken 115'i satın alan(success) müşterilerdir. Bu 4047 müşterinin 2628'nin telefonla yaptığı görüşme süresi 222 sn'den daha azken 1419'nun telefonla yaptığı görüşme süresi 222 sn'den daha fazladır. Telefonla yaptığı görüşme süresi 222 sn'den daha az olan 2628 müşterinin 2563'ü mevduatı satın almazken 65'i mevduatı satın almıştır(1. yaprak düğüm). \n",
    "3.  Görüşme süresi 222 sn'den daha fazla olan 1419 müşteriden 1358'i bu telefon görüşmesini ocak, şubat, nisan, mayıs, haziran, temmuz, ağustos ve kasım aylarında gerçekleştirmiştir. Bu 1358 müşteriden 1347'sinin bir önceki kampanya çalışması için aranmasının üzerinden 373 günden daha az bir zaman geçmiştir. Bu 1347 müşteriden 1189'u mevduatı satın almazken 158'i mevduatı satın almıştır(2. yaprak düğüm). Bu 1358 müşteriden 11 kişinin bir önceki kampanya çalışması için aranmasının üstünden 373 günden fazla bir zaman geçmiştir. Bu müşterilerden 10'u mevduatı satın alırken 1'i mevduatı satın almamıştır(3. yaprak düğüm).  \n",
    "4. Görüşme süresi 222 sn'den daha fazla konuşan 1419 müşterinin 61'i bu telefon görüşmesini mart, eylül, ekim ve aralık aylarında gerçekleştirmiştir. Bu 61 müşteriden 32'si mart, eylül, ekim ve aralık aylarının 16'sından önce aranırken 29'u bu ayların 16'sından sonra aranmıştır. 16'sından önce aranan 32 müşteriden 22'si mevduatı satın almazken 10'u mevduatı satın almıştır(4. yaprak düğüm).  \n",
    "5. 16'sından sonra aranan 29 müşteriden 22'si mevduatı satın alırken 9'u mevduatı satın almamıştır(5. yaprak düğüm).  \n",
    "6. Görüşme süresi 646 sn'den daha az olan ve bir önceki kampanyadaki ürünü satın aldığı bilinen 115 müşteriden 29'u telefonla 180 sn'den daha az konuşurken 86'sı 180 sn'den fazla konuşmuştur.(180 ile 646 sn arasında). 180 sn'den az daha az konuşan 29 müşteriden 20'si mevduatı satın almazken 9'u satın almıştır(6. yaprak düğüm). \n",
    "7. 180 sn'den fazla konuşan 86 kişiden 67'si mevduatı satın alırken 19'u satın almamıştır(7. yaprak düğüm).  \n",
    "8. Görüşme süresi 646 sn'den daha fazla olan 359 müşteriden 205'nin medeni durumu evli deği iken 154'nün medeni durumu evlidir . Bu 205 müşterinin 168'nin meslekleri yönetici(admin), mavi yakalı(blue-collar), girişimci(entrepreneur), hizmetçi(housemaid), idareci(management), kendi işi olan(self employed), hizmet eden(services), öğrenci(student) veya işsiz(unemployed)'dir. Bu 168 müşteriden 107'si mevduatı satın almazken 61'i satın almıştır. (8. düğüm)  \n",
    "9. Bu 359 müşteriden 37'sinin ise meslekleri bilinmeyen(unknown), emekli(retired) ve teknisyen(technician)'dir. Bu müşterilerden 24'ü mevduatı satın alırken 13'ü satın almamıştır. (9. düğüm)\n",
    "10. Medeni durumu evli olan 154 müşteriden 95'i mevduatı satın alırken 59'u mevduatı satın almaıştır. (10.düğüm) \n"
   ]
  },
  {
   "cell_type": "markdown",
   "metadata": {},
   "source": [
    "### Veri Kümesini Bölme ve Tahminleme"
   ]
  },
  {
   "cell_type": "code",
   "execution_count": 12,
   "metadata": {
    "collapsed": false
   },
   "outputs": [
    {
     "data": {
      "text/html": [
       "<table>\n",
       "<thead><tr><th></th><th scope=col>age</th><th scope=col>job</th><th scope=col>marital</th><th scope=col>education</th><th scope=col>default</th><th scope=col>balance</th><th scope=col>housing</th><th scope=col>loan</th><th scope=col>contact</th><th scope=col>day</th><th scope=col>month</th><th scope=col>duration</th><th scope=col>campaign</th><th scope=col>pdays</th><th scope=col>previous</th><th scope=col>poutcome</th><th scope=col>y</th></tr></thead>\n",
       "<tbody>\n",
       "\t<tr><th scope=row>402</th><td>28         </td><td>blue-collar</td><td>single     </td><td>secondary  </td><td>no         </td><td> 517       </td><td>no         </td><td>yes        </td><td>cellular   </td><td> 8         </td><td>jul        </td><td> 681       </td><td>1          </td><td>-1         </td><td>0          </td><td>unknown    </td><td>yes        </td></tr>\n",
       "\t<tr><th scope=row>433</th><td>34         </td><td>technician </td><td>single     </td><td>tertiary   </td><td>no         </td><td> 228       </td><td>yes        </td><td>no         </td><td>cellular   </td><td>22         </td><td>jul        </td><td> 387       </td><td>4          </td><td>-1         </td><td>0          </td><td>unknown    </td><td>no         </td></tr>\n",
       "\t<tr><th scope=row>3983</th><td>41         </td><td>management </td><td>married    </td><td>tertiary   </td><td>no         </td><td>  72       </td><td>yes        </td><td>no         </td><td>unknown    </td><td> 7         </td><td>may        </td><td> 764       </td><td>3          </td><td>-1         </td><td>0          </td><td>unknown    </td><td>no         </td></tr>\n",
       "\t<tr><th scope=row>1286</th><td>54         </td><td>services   </td><td>married    </td><td>secondary  </td><td>no         </td><td> 386       </td><td>yes        </td><td>no         </td><td>cellular   </td><td> 2         </td><td>aug        </td><td> 155       </td><td>2          </td><td>-1         </td><td>0          </td><td>unknown    </td><td>no         </td></tr>\n",
       "\t<tr><th scope=row>496</th><td>48         </td><td>management </td><td>divorced   </td><td>tertiary   </td><td>no         </td><td>1328       </td><td>yes        </td><td>no         </td><td>unknown    </td><td> 6         </td><td>may        </td><td> 339       </td><td>1          </td><td>-1         </td><td>0          </td><td>unknown    </td><td>no         </td></tr>\n",
       "\t<tr><th scope=row>1301</th><td>59         </td><td>retired    </td><td>divorced   </td><td>secondary  </td><td>no         </td><td>5845       </td><td>no         </td><td>no         </td><td>cellular   </td><td>14         </td><td>may        </td><td>1060       </td><td>2          </td><td>-1         </td><td>0          </td><td>unknown    </td><td>yes        </td></tr>\n",
       "</tbody>\n",
       "</table>\n"
      ],
      "text/latex": [
       "\\begin{tabular}{r|lllllllllllllllll}\n",
       "  & age & job & marital & education & default & balance & housing & loan & contact & day & month & duration & campaign & pdays & previous & poutcome & y\\\\\n",
       "\\hline\n",
       "\t402 & 28          & blue-collar & single      & secondary   & no          &  517        & no          & yes         & cellular    &  8          & jul         &  681        & 1           & -1          & 0           & unknown     & yes        \\\\\n",
       "\t433 & 34          & technician  & single      & tertiary    & no          &  228        & yes         & no          & cellular    & 22          & jul         &  387        & 4           & -1          & 0           & unknown     & no         \\\\\n",
       "\t3983 & 41          & management  & married     & tertiary    & no          &   72        & yes         & no          & unknown     &  7          & may         &  764        & 3           & -1          & 0           & unknown     & no         \\\\\n",
       "\t1286 & 54          & services    & married     & secondary   & no          &  386        & yes         & no          & cellular    &  2          & aug         &  155        & 2           & -1          & 0           & unknown     & no         \\\\\n",
       "\t496 & 48          & management  & divorced    & tertiary    & no          & 1328        & yes         & no          & unknown     &  6          & may         &  339        & 1           & -1          & 0           & unknown     & no         \\\\\n",
       "\t1301 & 59          & retired     & divorced    & secondary   & no          & 5845        & no          & no          & cellular    & 14          & may         & 1060        & 2           & -1          & 0           & unknown     & yes        \\\\\n",
       "\\end{tabular}\n"
      ],
      "text/markdown": [
       "\n",
       "| <!--/--> | age | job | marital | education | default | balance | housing | loan | contact | day | month | duration | campaign | pdays | previous | poutcome | y | \n",
       "|---|---|---|---|---|---|\n",
       "| 402 | 28          | blue-collar | single      | secondary   | no          |  517        | no          | yes         | cellular    |  8          | jul         |  681        | 1           | -1          | 0           | unknown     | yes         | \n",
       "| 433 | 34          | technician  | single      | tertiary    | no          |  228        | yes         | no          | cellular    | 22          | jul         |  387        | 4           | -1          | 0           | unknown     | no          | \n",
       "| 3983 | 41          | management  | married     | tertiary    | no          |   72        | yes         | no          | unknown     |  7          | may         |  764        | 3           | -1          | 0           | unknown     | no          | \n",
       "| 1286 | 54          | services    | married     | secondary   | no          |  386        | yes         | no          | cellular    |  2          | aug         |  155        | 2           | -1          | 0           | unknown     | no          | \n",
       "| 496 | 48          | management  | divorced    | tertiary    | no          | 1328        | yes         | no          | unknown     |  6          | may         |  339        | 1           | -1          | 0           | unknown     | no          | \n",
       "| 1301 | 59          | retired     | divorced    | secondary   | no          | 5845        | no          | no          | cellular    | 14          | may         | 1060        | 2           | -1          | 0           | unknown     | yes         | \n",
       "\n",
       "\n"
      ],
      "text/plain": [
       "     age job         marital  education default balance housing loan contact \n",
       "402  28  blue-collar single   secondary no       517    no      yes  cellular\n",
       "433  34  technician  single   tertiary  no       228    yes     no   cellular\n",
       "3983 41  management  married  tertiary  no        72    yes     no   unknown \n",
       "1286 54  services    married  secondary no       386    yes     no   cellular\n",
       "496  48  management  divorced tertiary  no      1328    yes     no   unknown \n",
       "1301 59  retired     divorced secondary no      5845    no      no   cellular\n",
       "     day month duration campaign pdays previous poutcome y  \n",
       "402   8  jul    681     1        -1    0        unknown  yes\n",
       "433  22  jul    387     4        -1    0        unknown  no \n",
       "3983  7  may    764     3        -1    0        unknown  no \n",
       "1286  2  aug    155     2        -1    0        unknown  no \n",
       "496   6  may    339     1        -1    0        unknown  no \n",
       "1301 14  may   1060     2        -1    0        unknown  yes"
      ]
     },
     "metadata": {},
     "output_type": "display_data"
    },
    {
     "data": {
      "text/html": [
       "<table>\n",
       "<thead><tr><th></th><th scope=col>age</th><th scope=col>job</th><th scope=col>marital</th><th scope=col>education</th><th scope=col>default</th><th scope=col>balance</th><th scope=col>housing</th><th scope=col>loan</th><th scope=col>contact</th><th scope=col>day</th><th scope=col>month</th><th scope=col>duration</th><th scope=col>campaign</th><th scope=col>pdays</th><th scope=col>previous</th><th scope=col>poutcome</th><th scope=col>y</th></tr></thead>\n",
       "<tbody>\n",
       "\t<tr><th scope=row>7</th><td>36           </td><td>self-employed</td><td>married      </td><td>tertiary     </td><td>no           </td><td>307          </td><td>yes          </td><td>no           </td><td>cellular     </td><td>14           </td><td>may          </td><td>341          </td><td>1            </td><td>330          </td><td>2            </td><td>other        </td><td>no           </td></tr>\n",
       "\t<tr><th scope=row>14</th><td>20           </td><td>student      </td><td>single       </td><td>secondary    </td><td>no           </td><td>502          </td><td>no           </td><td>no           </td><td>cellular     </td><td>30           </td><td>apr          </td><td>261          </td><td>1            </td><td> -1          </td><td>0            </td><td>unknown      </td><td>yes          </td></tr>\n",
       "\t<tr><th scope=row>15</th><td>31           </td><td>blue-collar  </td><td>married      </td><td>secondary    </td><td>no           </td><td>360          </td><td>yes          </td><td>yes          </td><td>cellular     </td><td>29           </td><td>jan          </td><td> 89          </td><td>1            </td><td>241          </td><td>1            </td><td>failure      </td><td>no           </td></tr>\n",
       "\t<tr><th scope=row>20</th><td>31           </td><td>services     </td><td>married      </td><td>secondary    </td><td>no           </td><td>132          </td><td>no           </td><td>no           </td><td>cellular     </td><td> 7           </td><td>jul          </td><td>148          </td><td>1            </td><td>152          </td><td>1            </td><td>other        </td><td>no           </td></tr>\n",
       "\t<tr><th scope=row>22</th><td>42           </td><td>management   </td><td>divorced     </td><td>tertiary     </td><td>no           </td><td> 16          </td><td>no           </td><td>no           </td><td>cellular     </td><td>19           </td><td>nov          </td><td>140          </td><td>3            </td><td> -1          </td><td>0            </td><td>unknown      </td><td>no           </td></tr>\n",
       "\t<tr><th scope=row>25</th><td>26           </td><td>housemaid    </td><td>married      </td><td>tertiary     </td><td>no           </td><td>543          </td><td>no           </td><td>no           </td><td>cellular     </td><td>30           </td><td>jan          </td><td>169          </td><td>3            </td><td> -1          </td><td>0            </td><td>unknown      </td><td>no           </td></tr>\n",
       "</tbody>\n",
       "</table>\n"
      ],
      "text/latex": [
       "\\begin{tabular}{r|lllllllllllllllll}\n",
       "  & age & job & marital & education & default & balance & housing & loan & contact & day & month & duration & campaign & pdays & previous & poutcome & y\\\\\n",
       "\\hline\n",
       "\t7 & 36            & self-employed & married       & tertiary      & no            & 307           & yes           & no            & cellular      & 14            & may           & 341           & 1             & 330           & 2             & other         & no           \\\\\n",
       "\t14 & 20            & student       & single        & secondary     & no            & 502           & no            & no            & cellular      & 30            & apr           & 261           & 1             &  -1           & 0             & unknown       & yes          \\\\\n",
       "\t15 & 31            & blue-collar   & married       & secondary     & no            & 360           & yes           & yes           & cellular      & 29            & jan           &  89           & 1             & 241           & 1             & failure       & no           \\\\\n",
       "\t20 & 31            & services      & married       & secondary     & no            & 132           & no            & no            & cellular      &  7            & jul           & 148           & 1             & 152           & 1             & other         & no           \\\\\n",
       "\t22 & 42            & management    & divorced      & tertiary      & no            &  16           & no            & no            & cellular      & 19            & nov           & 140           & 3             &  -1           & 0             & unknown       & no           \\\\\n",
       "\t25 & 26            & housemaid     & married       & tertiary      & no            & 543           & no            & no            & cellular      & 30            & jan           & 169           & 3             &  -1           & 0             & unknown       & no           \\\\\n",
       "\\end{tabular}\n"
      ],
      "text/markdown": [
       "\n",
       "| <!--/--> | age | job | marital | education | default | balance | housing | loan | contact | day | month | duration | campaign | pdays | previous | poutcome | y | \n",
       "|---|---|---|---|---|---|\n",
       "| 7 | 36            | self-employed | married       | tertiary      | no            | 307           | yes           | no            | cellular      | 14            | may           | 341           | 1             | 330           | 2             | other         | no            | \n",
       "| 14 | 20            | student       | single        | secondary     | no            | 502           | no            | no            | cellular      | 30            | apr           | 261           | 1             |  -1           | 0             | unknown       | yes           | \n",
       "| 15 | 31            | blue-collar   | married       | secondary     | no            | 360           | yes           | yes           | cellular      | 29            | jan           |  89           | 1             | 241           | 1             | failure       | no            | \n",
       "| 20 | 31            | services      | married       | secondary     | no            | 132           | no            | no            | cellular      |  7            | jul           | 148           | 1             | 152           | 1             | other         | no            | \n",
       "| 22 | 42            | management    | divorced      | tertiary      | no            |  16           | no            | no            | cellular      | 19            | nov           | 140           | 3             |  -1           | 0             | unknown       | no            | \n",
       "| 25 | 26            | housemaid     | married       | tertiary      | no            | 543           | no            | no            | cellular      | 30            | jan           | 169           | 3             |  -1           | 0             | unknown       | no            | \n",
       "\n",
       "\n"
      ],
      "text/plain": [
       "   age job           marital  education default balance housing loan contact \n",
       "7  36  self-employed married  tertiary  no      307     yes     no   cellular\n",
       "14 20  student       single   secondary no      502     no      no   cellular\n",
       "15 31  blue-collar   married  secondary no      360     yes     yes  cellular\n",
       "20 31  services      married  secondary no      132     no      no   cellular\n",
       "22 42  management    divorced tertiary  no       16     no      no   cellular\n",
       "25 26  housemaid     married  tertiary  no      543     no      no   cellular\n",
       "   day month duration campaign pdays previous poutcome y  \n",
       "7  14  may   341      1        330   2        other    no \n",
       "14 30  apr   261      1         -1   0        unknown  yes\n",
       "15 29  jan    89      1        241   1        failure  no \n",
       "20  7  jul   148      1        152   1        other    no \n",
       "22 19  nov   140      3         -1   0        unknown  no \n",
       "25 30  jan   169      3         -1   0        unknown  no "
      ]
     },
     "metadata": {},
     "output_type": "display_data"
    },
    {
     "data": {
      "text/html": [
       "3616"
      ],
      "text/latex": [
       "3616"
      ],
      "text/markdown": [
       "3616"
      ],
      "text/plain": [
       "[1] 3616"
      ]
     },
     "metadata": {},
     "output_type": "display_data"
    }
   ],
   "source": [
    "size<- nrow(data)*0.8\n",
    "index<-sample(1:nrow(data),size=size)\n",
    "training<-data[index,]\n",
    "test<-data[-index,]\n",
    "head(training)\n",
    "head(test)\n",
    "nrow(training)"
   ]
  },
  {
   "cell_type": "markdown",
   "metadata": {},
   "source": [
    "4521 örneklik veri kümesi daha iyi tahminleme yapılması amacıyla %80 oranında (3616) eğitim (training) ve %20 oranında (905) da test veri kümesine bölünmüştür. *Sample* fonksiyonu ile toplam veri üzerinden örneklem oluşturulmuştur. Training ve test veri kümelerini data veri kümesi üzerinden rastgele (random) seçilen örnekler oluşturmaktadır. Yani kodları her çalıştırdığımızda farklı örnekler gelmektedir. Örnek olması amacıyla daha önce de kullanılan *head* fonksiyonu ile ilk 6 örnek gösterilmiştir."
   ]
  },
  {
   "cell_type": "code",
   "execution_count": 13,
   "metadata": {
    "collapsed": false
   },
   "outputs": [
    {
     "data": {
      "text/html": [
       "<dl class=dl-horizontal>\n",
       "\t<dt>402</dt>\n",
       "\t\t<dd>yes</dd>\n",
       "\t<dt>433</dt>\n",
       "\t\t<dd>no</dd>\n",
       "\t<dt>3983</dt>\n",
       "\t\t<dd>no</dd>\n",
       "\t<dt>1286</dt>\n",
       "\t\t<dd>no</dd>\n",
       "\t<dt>496</dt>\n",
       "\t\t<dd>no</dd>\n",
       "\t<dt>1301</dt>\n",
       "\t\t<dd>yes</dd>\n",
       "</dl>\n"
      ],
      "text/latex": [
       "\\begin{description*}\n",
       "\\item[402] yes\n",
       "\\item[433] no\n",
       "\\item[3983] no\n",
       "\\item[1286] no\n",
       "\\item[496] no\n",
       "\\item[1301] yes\n",
       "\\end{description*}\n"
      ],
      "text/markdown": [
       "402\n",
       ":   yes433\n",
       ":   no3983\n",
       ":   no1286\n",
       ":   no496\n",
       ":   no1301\n",
       ":   yes\n",
       "\n"
      ],
      "text/plain": [
       " 402  433 3983 1286  496 1301 \n",
       " yes   no   no   no   no  yes \n",
       "Levels: no yes"
      ]
     },
     "metadata": {},
     "output_type": "display_data"
    }
   ],
   "source": [
    "prediction<- predict(elif,training,type=\"class\")\n",
    "head(prediction)"
   ]
  },
  {
   "cell_type": "markdown",
   "metadata": {},
   "source": [
    "#### predict Genel Kullanımı\n",
    "\n",
    "*predict* fonksiyonu rpart nesnesinin tahmin edilen sonucunu bir vektör olarak döndürür.\n",
    "**predict(object,newdata,type=c(\"vector\",\"prob\",\"class\",\"matrix\")**\n",
    "Parametrelerin kullanımı;  \n",
    " object: rpart sınıfından rpart fonksiyonu tarafından oluşturulan nesnedir. Banka veri kümesi için rpart fonksiyonundan üretilen nesnemiz **elif** idi.  \n",
    " newdata: Tahmin ediciler için gerekli olan değerleri içeren veri çerçevesidir. Kullanılacak newdata %80 oranında bölme işlemi yaoılan training veri kümesidir.  \n",
    " type: Tahmin edilen değerlerin döndürüldüğü karakter dizisidir. Vector, prob, class, matrix olarak 4 çeşidi vardır. Tercih olarak \"class\" kullanılmıştır.\n",
    " \n",
    " 6 örnek için bakıldığında; tahmin ediciler kullanılarak (y alanı haricindeki diğer alanlar); \n",
    " 402 ve 1301 numaralı müşterilerin mevduatı satın alacağı tahmin edilirken, 433, 3983, 1286, 496 numaralı müşterilerin mevduatı satın almayacağı tahmin edilmiştir. Peki gerçekte de durum bu şekilde mi? \n",
    " \n"
   ]
  },
  {
   "cell_type": "code",
   "execution_count": 18,
   "metadata": {
    "collapsed": false
   },
   "outputs": [
    {
     "data": {
      "text/html": [
       "<table>\n",
       "<thead><tr><th></th><th scope=col>age</th><th scope=col>job</th><th scope=col>marital</th><th scope=col>education</th><th scope=col>default</th><th scope=col>balance</th><th scope=col>housing</th><th scope=col>loan</th><th scope=col>contact</th><th scope=col>day</th><th scope=col>month</th><th scope=col>duration</th><th scope=col>campaign</th><th scope=col>pdays</th><th scope=col>previous</th><th scope=col>poutcome</th><th scope=col>y</th></tr></thead>\n",
       "<tbody>\n",
       "\t<tr><th scope=row>402</th><td>28         </td><td>blue-collar</td><td>single     </td><td>secondary  </td><td>no         </td><td>517        </td><td>no         </td><td>yes        </td><td>cellular   </td><td>8          </td><td>jul        </td><td>681        </td><td>1          </td><td>-1         </td><td>0          </td><td>unknown    </td><td>yes        </td></tr>\n",
       "</tbody>\n",
       "</table>\n"
      ],
      "text/latex": [
       "\\begin{tabular}{r|lllllllllllllllll}\n",
       "  & age & job & marital & education & default & balance & housing & loan & contact & day & month & duration & campaign & pdays & previous & poutcome & y\\\\\n",
       "\\hline\n",
       "\t402 & 28          & blue-collar & single      & secondary   & no          & 517         & no          & yes         & cellular    & 8           & jul         & 681         & 1           & -1          & 0           & unknown     & yes        \\\\\n",
       "\\end{tabular}\n"
      ],
      "text/markdown": [
       "\n",
       "| <!--/--> | age | job | marital | education | default | balance | housing | loan | contact | day | month | duration | campaign | pdays | previous | poutcome | y | \n",
       "|---|\n",
       "| 402 | 28          | blue-collar | single      | secondary   | no          | 517         | no          | yes         | cellular    | 8           | jul         | 681         | 1           | -1          | 0           | unknown     | yes         | \n",
       "\n",
       "\n"
      ],
      "text/plain": [
       "    age job         marital education default balance housing loan contact  day\n",
       "402 28  blue-collar single  secondary no      517     no      yes  cellular 8  \n",
       "    month duration campaign pdays previous poutcome y  \n",
       "402 jul   681      1        -1    0        unknown  yes"
      ]
     },
     "metadata": {},
     "output_type": "display_data"
    },
    {
     "data": {
      "text/html": [
       "<table>\n",
       "<thead><tr><th></th><th scope=col>age</th><th scope=col>job</th><th scope=col>marital</th><th scope=col>education</th><th scope=col>default</th><th scope=col>balance</th><th scope=col>housing</th><th scope=col>loan</th><th scope=col>contact</th><th scope=col>day</th><th scope=col>month</th><th scope=col>duration</th><th scope=col>campaign</th><th scope=col>pdays</th><th scope=col>previous</th><th scope=col>poutcome</th><th scope=col>y</th></tr></thead>\n",
       "<tbody>\n",
       "\t<tr><th scope=row>1286</th><td>54       </td><td>services </td><td>married  </td><td>secondary</td><td>no       </td><td>386      </td><td>yes      </td><td>no       </td><td>cellular </td><td>2        </td><td>aug      </td><td>155      </td><td>2        </td><td>-1       </td><td>0        </td><td>unknown  </td><td>no       </td></tr>\n",
       "</tbody>\n",
       "</table>\n"
      ],
      "text/latex": [
       "\\begin{tabular}{r|lllllllllllllllll}\n",
       "  & age & job & marital & education & default & balance & housing & loan & contact & day & month & duration & campaign & pdays & previous & poutcome & y\\\\\n",
       "\\hline\n",
       "\t1286 & 54        & services  & married   & secondary & no        & 386       & yes       & no        & cellular  & 2         & aug       & 155       & 2         & -1        & 0         & unknown   & no       \\\\\n",
       "\\end{tabular}\n"
      ],
      "text/markdown": [
       "\n",
       "| <!--/--> | age | job | marital | education | default | balance | housing | loan | contact | day | month | duration | campaign | pdays | previous | poutcome | y | \n",
       "|---|\n",
       "| 1286 | 54        | services  | married   | secondary | no        | 386       | yes       | no        | cellular  | 2         | aug       | 155       | 2         | -1        | 0         | unknown   | no        | \n",
       "\n",
       "\n"
      ],
      "text/plain": [
       "     age job      marital education default balance housing loan contact  day\n",
       "1286 54  services married secondary no      386     yes     no   cellular 2  \n",
       "     month duration campaign pdays previous poutcome y \n",
       "1286 aug   155      2        -1    0        unknown  no"
      ]
     },
     "metadata": {},
     "output_type": "display_data"
    },
    {
     "data": {
      "text/html": [
       "<table>\n",
       "<thead><tr><th></th><th scope=col>age</th><th scope=col>job</th><th scope=col>marital</th><th scope=col>education</th><th scope=col>default</th><th scope=col>balance</th><th scope=col>housing</th><th scope=col>loan</th><th scope=col>contact</th><th scope=col>day</th><th scope=col>month</th><th scope=col>duration</th><th scope=col>campaign</th><th scope=col>pdays</th><th scope=col>previous</th><th scope=col>poutcome</th><th scope=col>y</th></tr></thead>\n",
       "<tbody>\n",
       "\t<tr><th scope=row>1301</th><td>59       </td><td>retired  </td><td>divorced </td><td>secondary</td><td>no       </td><td>5845     </td><td>no       </td><td>no       </td><td>cellular </td><td>14       </td><td>may      </td><td>1060     </td><td>2        </td><td>-1       </td><td>0        </td><td>unknown  </td><td>yes      </td></tr>\n",
       "</tbody>\n",
       "</table>\n"
      ],
      "text/latex": [
       "\\begin{tabular}{r|lllllllllllllllll}\n",
       "  & age & job & marital & education & default & balance & housing & loan & contact & day & month & duration & campaign & pdays & previous & poutcome & y\\\\\n",
       "\\hline\n",
       "\t1301 & 59        & retired   & divorced  & secondary & no        & 5845      & no        & no        & cellular  & 14        & may       & 1060      & 2         & -1        & 0         & unknown   & yes      \\\\\n",
       "\\end{tabular}\n"
      ],
      "text/markdown": [
       "\n",
       "| <!--/--> | age | job | marital | education | default | balance | housing | loan | contact | day | month | duration | campaign | pdays | previous | poutcome | y | \n",
       "|---|\n",
       "| 1301 | 59        | retired   | divorced  | secondary | no        | 5845      | no        | no        | cellular  | 14        | may       | 1060      | 2         | -1        | 0         | unknown   | yes       | \n",
       "\n",
       "\n"
      ],
      "text/plain": [
       "     age job     marital  education default balance housing loan contact  day\n",
       "1301 59  retired divorced secondary no      5845    no      no   cellular 14 \n",
       "     month duration campaign pdays previous poutcome y  \n",
       "1301 may   1060     2        -1    0        unknown  yes"
      ]
     },
     "metadata": {},
     "output_type": "display_data"
    }
   ],
   "source": [
    "df<- data.frame(data)\n",
    "df[402,]\n",
    "df[1286,]\n",
    "df[1301,]"
   ]
  },
  {
   "cell_type": "markdown",
   "metadata": {},
   "source": [
    "402, 1286 ve 1301 numaralı müşterilere bakıldığında tahminlerin doğru olduğu gözükmektedir."
   ]
  },
  {
   "cell_type": "code",
   "execution_count": 10,
   "metadata": {
    "collapsed": false
   },
   "outputs": [
    {
     "data": {
      "text/plain": [
       "          \n",
       "prediction   no  yes\n",
       "       no  3116  250\n",
       "       yes   72  178"
      ]
     },
     "metadata": {},
     "output_type": "display_data"
    }
   ],
   "source": [
    "confusion.matrix <- table(prediction, training$y)\n",
    "confusion.matrix"
   ]
  },
  {
   "cell_type": "markdown",
   "metadata": {},
   "source": [
    "*Confusion Matrix* İlişkili istatistiklerle gözlemlenen ve tahmin edilen sınıfların çapraz tablolarını hesaplar.  \n",
    "* Trainig veri kümeside toplamda 3366 müşterinin mevduatı satın almadığı (no) bilinirken; bunların 3116 tanesi satın almaz (no), 250 tanesi de satın alır (yes) şeklinde tahmin edilmiştir. (1.satır)  \n",
    "* Training veri kümesinde toplamda 250 müşterinin mevduatı satın aldığı bilinirken; bunların 72 tanesi satın almaz (no), 178 tanesi de satın alır (yes) şeklinde tahmin edilmiştir. (2.satır)\n",
    "* 3616 örneklemli veri kümesinden 3116+250=3366 örnek doğru tahmin edilerek başarı oranı %91.09 olarak bulunmuştur."
   ]
  },
  {
   "cell_type": "markdown",
   "metadata": {},
   "source": [
    "### Lojistik Regresyon  \n",
    "Lojistik regresyon; cevap değişkeninin kategorik olarak ikili, üçlü veya çoklu olduğu durumlarda açıklayıcı değişkenlerle neden sonuç ilişkisini belirlemede yararlanılan bir yöntemdir. Açıklayıcı değişkenlere göre cevap değişkeninin beklenen değerlerinin olasılık olarak elde edildiği bir regresyon yöntemidir.  Lojistik regresyon analizi, sınıflama ve atama işlemi yapmaya yardımcı olan bir regresyon yöntemidir. Basit ve çoklu regresyon analizlerinde ön koşul olarak normal dağılım ve süreklilik varsayımı aranırken lojistik regreyon analizlerinde böyle bir ön koşul yoktur. Basit regresyon analizinde bağımlı değişkenler ve bağımsız değişkenler sayısal olarak belirtilir. Nitelik olarak belirtilmezler. Örneğin; yaş ile kan basıncı arasında bir ilişki aranacaksa hem yaş hem de kan basıncı sayısal olarak belirtilmelidir. Eğer ki bağımlı değişken nitelik olarak belirtilirse bağımsız değişkenlerle arasındaki ilişki lojistik resresyon yöntemiyle aranır. Lojisitk regresyon tanımını daha iyi anlayabilmek için aşağıda bazı tanımlar verilmiştir. \n",
    "\n",
    "  **Nitel değişken**: Ölçülemez, sadece nitelendirilebilir değişkenlerdir. Örneğin; Cinsiyet: Erkek, Kadın; Eğitim: İlk-Orta-Lise-Yüksek gibi.  \n",
    " **Sayısal değişken**: Kesikli sayısal ve Sürekli sayısal olarak iki gruba ayrılır.  \n",
    " **Kesikli sayısal değişken**: Belirli bir aralıktaki tam sayıları alabilen değişkenlerdir. Örneğin; Nabız sayısı, ölen çocuk sayısı gibi.  \n",
    " **Sürekli sayısal değişken**: Ölçümle belirtilen ve belirli bir aralıktaki bütün desimal değerleri alabilen değişkenlerdir. Örneğin; Kan basıncı ölçümü, Boy uzuluğu, ağırlık gibi  \n",
    " **Bağımlı değişken**: Diğer değişkenler tarafından etkilenen değişkendir.  \n",
    " **Bağımsız değişken**: Bağımlı değişkeni etkileyen değişkendir.  Örneğin; bir öğrencinin başarısı cinsiyete, yaşa ve sosyal durumlarına bağımlı olabilir. \n",
    " \n",
    " Lojistik regresyon analizinin amacı hem sınıflandırma yapmak hem de bağımlı ve bağımsız değişkenler arasındaki ilişkiyi araştırmaktır. Lojistik regresyon analizi daha çok sosyo-ekonomik konuların pazar araştırmalarında kullanılmaktadır. Lojistik analiz yöntemi ilk olarak nüfus artışının matematiksel bir ifadeyle açıklanmasına yönelik araştırmada ortaya sunulmuştur. Lojistik regresyon analizi bağımlı değişkenin sayısına ve kategori sayısına göre 3'e ayrılmaktadır. Eğer bağımlı değişken iki seçenekli kategorik değişkene sahip ise İkili Lojistik Regresyon Analizi (Binaty Logistic Regression) uygulanır. Eğer bağımlı değişken ikiden çok kategorili değişkene sahipse Çok Kategorili İsimsel Lojistik Regresyon Analizi (Multinominal Lojistic Regression) uygulanır. Eğer bağımlı değişken sıralama ölçeğiyle elde edilmişse Sıralı Lojistik Regresyon Analizi (Ordinal Logistic Regression) uygulanır.  \n",
    " \n",
    " Matematiksel olarak lojistik regresyon olasılık, odds ve odds'un logaritmasına dayanır. Olasılık en temel olarak belirli bir tipteki sonuç sayısının toplam sonuçlar içerisindeki oranıdır. Örneğin; bir zar atıldığında 5 gelme olaslığı 1/6' (0,167)'dır. Çünkü zar üzerinde bir tane 5 vardır ve toplamda 6 sonuç vardır. Lojistik regresyonda odds, bir olayın olma olasılığının o olayın olmama olasılığına bölümü olarak tanımlanır.  \n",
    "  $$ Odds = \\frac{p(x)}{1-p(x)}$$  Burada p(x) bir olayın gerçekleşme olasılığını, 1-p(x) ise bir olayın gerçekleşmeme olasılığını göstermektedir. Bir zar atıldığında 5 gelme olasılığına ilişkin odds değeri **0,167/0,833=0,200**'dür. Olasılıkların değeri 0 ile 1 arasında değişirken odds değeri için böyle bir kısıtlama yoktur. Odss değeri 1'den büyük olabilir. Örneğin; bir sınavda öğrencilerin başarılı olma olasılığı 0.80 olsun. Başarılı olmaya ilişkin odds 0.80/0.20=4'tür. Görüldüğü üzere odds değeri 1'den büyük olabilir. Bu örnekte odd'un anlamı başarılı olmanın olasılığı başarısız olmaya göre 4 kat fazladır. 0.50'lik bir olasılık (yani bir olayın olma ya da olmama/ ortaya çıkma ya da çıkmama şansının eşit olma olasılığı) odds'un 1 olması ile sonuçlanır. Odds'un 1'den küçük olması ilgilenilen olasılığın 0.50'den az; 1'den büyük olması ise ilgilenilen olasılığın 0.50'den fazla olduğu anlamına gelir. Odds oranı $\\varphi$ ile gösterilir. Lojistik regresyon analizinde elde edilen sonuç doğrusal olmayan bir fonksiyondur. Lojistik regresyondaki en önemli kavram adını da kendisinden alan \"lojit\" kavramıdır. Lojit odds oranının doğal logaritmasıdır. (ln). Yukarıdaki zar örneğine geri dönülürse bir zarın 5 gelme olasılığına ilişkin odds için lojit değer **ln(0,200)=-1,609**'dur. \n",
    "  \n",
    "*Bazı olasılık değerlerine karşılık gelen Odds ve Log Odds Oranları\n",
    "\n",
    "|Olasılık|Odds|Log Odds|\n",
    "|---|---|---|---|---|\n",
    "|.00|.00|Hesaplanamaz|\n",
    "|.10|.11|-2.20| \n",
    "|.30|.43|-0.85| \n",
    "|.50|1.00|.00| \n",
    "|.70|2.33|0.85| \n",
    "|.90|9.00|2.20|\n",
    "|1.00|Hesaplanamaz|Hesaplanamaz| \n",
    "  \n",
    "  \n",
    "  Olasılık, odds ve lojit kavramlarını tek bir eşitlikte bir araya getirdiğimizde  \n",
    " $$ Y_i=\\frac{e^u}{1+e^u}$$  \n",
    " Burada $$Y_i$$ i'nci örneğin bağımlı değişkenin kategorilerinin birisinde yer almasına ilşkin kestirilen olasılıktır. e ise 2.718'e eşit bir sabittir. Burada u ise klasik regresyon eşitliğidir. \n",
    " $$u= \\beta_0+\\beta_1X_1+\\beta_2X_2+.....\\beta_kX_k$$  \n",
    " Doğrusal regresyon eşitliği (*u*) odds oranının lojitini oluşturur.\n",
    "     $$ln(\\frac{Y}{1-Y})= \\beta_0+\\beta_1X_1+\\beta_2X_2+.....\\beta_kX $$\n"
   ]
  },
  {
   "cell_type": "markdown",
   "metadata": {
    "collapsed": true
   },
   "source": []
  },
  {
   "cell_type": "markdown",
   "metadata": {},
   "source": [
    "### Uygulama  \n",
    "\n",
    "Lojistik regresyon modelinin kurulmasında SPSS, SAS, R gibi çeşitli istatistik araçları kullanılmaktadır. Bu çalışmada banka veri kümesi üzerinde lojistik regresyon analizi R'da uygulanarak müşterilerin bankaya ait satılan ürünü alıp almayacakları tahmin edilerek bu tahmini ne ölçüde gerçeklendirdiği tespit edilecektir. Bu uygulamada, bağımlı değişkenin (y= Yes, No) iki kategorili olma durumunda olmasından dolayı İkili Lojistik Regresyon Analizi (Binary Logistic Regression) kullanılmıştır. Bu uygulamada yer alan bağımsız değişkenler *age, job, marital, education, default, balance, housing, loan, contact, day, month, duration, campaign, pdays, previous, poutcome'dır.* Lojistik regresyon analizinde tekniklerin uygulanabilmesi için ilk önce verinin temizlenmesi işlemi yapılması gerekmektedir. Verideki bazı değerler silinmiş veya bozulmuş olabilir. Örneğin banka veri kümesinde müşteriye ait yaş, eğitim durumu gibi değişkenlerin boş bırakılması veya birden fazla değer girilmesi sağlıklı bir analiz yapılmasını engelleyecektir. "
   ]
  },
  {
   "cell_type": "code",
   "execution_count": 1,
   "metadata": {
    "collapsed": false
   },
   "outputs": [
    {
     "data": {
      "text/html": [
       "<strong>age.job.marital.education.default.balance.housing.loan.contact.day.month.duration.campaign.pdays.previous.poutcome.y:</strong> 0"
      ],
      "text/latex": [
       "\\textbf{age.job.marital.education.default.balance.housing.loan.contact.day.month.duration.campaign.pdays.previous.poutcome.y:} 0"
      ],
      "text/markdown": [
       "**age.job.marital.education.default.balance.housing.loan.contact.day.month.duration.campaign.pdays.previous.poutcome.y:** 0"
      ],
      "text/plain": [
       "age.job.marital.education.default.balance.housing.loan.contact.day.month.duration.campaign.pdays.previous.poutcome.y \n",
       "                                                                                                                   0 "
      ]
     },
     "metadata": {},
     "output_type": "display_data"
    },
    {
     "data": {
      "text/html": [
       "<strong>age.job.marital.education.default.balance.housing.loan.contact.day.month.duration.campaign.pdays.previous.poutcome.y:</strong> 4521"
      ],
      "text/latex": [
       "\\textbf{age.job.marital.education.default.balance.housing.loan.contact.day.month.duration.campaign.pdays.previous.poutcome.y:} 4521"
      ],
      "text/markdown": [
       "**age.job.marital.education.default.balance.housing.loan.contact.day.month.duration.campaign.pdays.previous.poutcome.y:** 4521"
      ],
      "text/plain": [
       "age.job.marital.education.default.balance.housing.loan.contact.day.month.duration.campaign.pdays.previous.poutcome.y \n",
       "                                                                                                                4521 "
      ]
     },
     "metadata": {},
     "output_type": "display_data"
    }
   ],
   "source": [
    "training.data.raw <- read.csv('Banka.csv',header=T,na.strings=c(\"\"))\n",
    "sapply(training.data.raw,function(x) sum(is.na(x)))\n",
    "sapply(training.data.raw, function(x) length(unique(x)))"
   ]
  },
  {
   "cell_type": "markdown",
   "metadata": {
    "collapsed": true
   },
   "source": [
    "Buradan anlaşıldığı üzere herhangi silinmiş veya bozulmuş değer bulunmamaktadır. Eğer böyle bir değer bulunmuş olsa idi, o değere ait ortalama (mean) değeri yazılarak değer düzeltilebilirdi."
   ]
  },
  {
   "cell_type": "code",
   "execution_count": 2,
   "metadata": {
    "collapsed": false
   },
   "outputs": [
    {
     "data": {
      "text/plain": [
       "\n",
       "Call:\n",
       "glm(formula = y ~ ., family = binomial(link = \"logit\"), data = training)\n",
       "\n",
       "Deviance Residuals: \n",
       "    Min       1Q   Median       3Q      Max  \n",
       "-4.0428  -0.3813  -0.2527  -0.1550   2.9360  \n",
       "\n",
       "Coefficients:\n",
       "                     Estimate Std. Error z value Pr(>|z|)    \n",
       "(Intercept)        -2.474e+00  6.729e-01  -3.676 0.000237 ***\n",
       "age                -4.464e-03  7.977e-03  -0.560 0.575736    \n",
       "jobblue-collar     -3.679e-01  2.697e-01  -1.364 0.172576    \n",
       "jobentrepreneur    -4.572e-01  4.284e-01  -1.067 0.285935    \n",
       "jobhousemaid       -6.935e-01  4.987e-01  -1.391 0.164354    \n",
       "jobmanagement      -8.837e-02  2.646e-01  -0.334 0.738386    \n",
       "jobretired          6.564e-01  3.448e-01   1.904 0.056927 .  \n",
       "jobself-employed   -4.198e-01  4.093e-01  -1.026 0.305097    \n",
       "jobservices        -2.973e-01  3.101e-01  -0.959 0.337720    \n",
       "jobstudent          4.014e-01  4.256e-01   0.943 0.345644    \n",
       "jobtechnician      -2.000e-01  2.545e-01  -0.786 0.431963    \n",
       "jobunemployed      -6.127e-01  4.549e-01  -1.347 0.178039    \n",
       "jobunknown          4.850e-01  6.482e-01   0.748 0.454254    \n",
       "maritalmarried     -5.657e-01  1.890e-01  -2.992 0.002768 ** \n",
       "maritalsingle      -4.099e-01  2.242e-01  -1.828 0.067578 .  \n",
       "educationsecondary  1.022e-01  2.255e-01   0.453 0.650488    \n",
       "educationtertiary   3.531e-01  2.596e-01   1.360 0.173790    \n",
       "educationunknown   -4.362e-01  4.024e-01  -1.084 0.278402    \n",
       "defaultyes          3.593e-01  4.891e-01   0.735 0.462558    \n",
       "balance            -8.896e-06  1.946e-05  -0.457 0.647536    \n",
       "housingyes         -2.326e-01  1.545e-01  -1.505 0.132218    \n",
       "loanyes            -6.370e-01  2.221e-01  -2.869 0.004120 ** \n",
       "contacttelephone    1.802e-03  2.538e-01   0.007 0.994336    \n",
       "contactunknown     -1.288e+00  2.508e-01  -5.134 2.84e-07 ***\n",
       "day                 1.165e-02  9.081e-03   1.282 0.199695    \n",
       "monthaug           -1.430e-01  2.814e-01  -0.508 0.611360    \n",
       "monthdec            8.232e-01  8.249e-01   0.998 0.318326    \n",
       "monthfeb            5.019e-01  3.313e-01   1.515 0.129756    \n",
       "monthjan           -1.023e+00  4.366e-01  -2.343 0.019138 *  \n",
       "monthjul           -7.533e-01  2.873e-01  -2.622 0.008753 ** \n",
       "monthjun            5.861e-01  3.387e-01   1.731 0.083525 .  \n",
       "monthmar            1.824e+00  4.265e-01   4.277 1.89e-05 ***\n",
       "monthmay           -4.465e-01  2.683e-01  -1.664 0.096143 .  \n",
       "monthnov           -5.231e-01  3.041e-01  -1.720 0.085397 .  \n",
       "monthoct            1.664e+00  3.641e-01   4.571 4.86e-06 ***\n",
       "monthsep            6.677e-01  4.591e-01   1.454 0.145863    \n",
       "duration            4.281e-03  2.248e-04  19.046  < 2e-16 ***\n",
       "campaign           -8.039e-02  3.177e-02  -2.530 0.011391 *  \n",
       "pdays               9.406e-05  1.103e-03   0.085 0.932042    \n",
       "previous           -1.401e-03  4.202e-02  -0.033 0.973400    \n",
       "poutcomeother       4.571e-01  2.995e-01   1.527 0.126867    \n",
       "poutcomesuccess     2.746e+00  3.167e-01   8.670  < 2e-16 ***\n",
       "poutcomeunknown    -2.881e-02  3.552e-01  -0.081 0.935358    \n",
       "---\n",
       "Signif. codes:  0 '***' 0.001 '**' 0.01 '*' 0.05 '.' 0.1 ' ' 1\n",
       "\n",
       "(Dispersion parameter for binomial family taken to be 1)\n",
       "\n",
       "    Null deviance: 2649.9  on 3615  degrees of freedom\n",
       "Residual deviance: 1742.9  on 3573  degrees of freedom\n",
       "AIC: 1828.9\n",
       "\n",
       "Number of Fisher Scoring iterations: 6\n"
      ]
     },
     "metadata": {},
     "output_type": "display_data"
    }
   ],
   "source": [
    "data<- read.table(\"banka.txt\",header=T,sep=\"\\t\")\n",
    "size<- nrow(data)*0.8\n",
    "index<-sample(1:nrow(data),size=size)\n",
    "training<-data[index,]\n",
    "test<-data[-index,]\n",
    "model <- glm(y~.,family=binomial(link='logit'),data=training)\n",
    "summary(model)"
   ]
  },
  {
   "cell_type": "markdown",
   "metadata": {},
   "source": [
    "Burada; Karar Ağacı algoritmasında yapıldığı gibi Banka veri kümemiz %80 oranında training kümesine ve %20 oranında test kümesine bölünmüştür. Training veri kümesi lojistik regresyon modelinin oluşturulmasında kullanılırken test kümesi ise tahminleme (prediction) işlemi için kullanılacaktır.  \n",
    "\n",
    "#### glm Genel Kullanımı  \n",
    "\n",
    "*glm* doğrusal tahmin ediciler ile birlikte genelleştirilmiş lineer modelleri uygulamak için kullanılan bir fonksiyondur. Genel kullanımı  \n",
    "\n",
    "glm(formula, **family**=familytype(**link**=linkfunction), data)  \n",
    "Parametrelerin kullanımı,  \n",
    "formul=*sonuç~nitelik1+nitelik2+..... *Banka verisinde sonucumuz y alanında saklıdır. 16 tane nitelik olduğundan tek tek yazmak yerine **.** yazılmıştır.,  \n",
    "*family= *Modelde kullanılacak hata dağılımını ve link fonksiyonunu (link function) tanımlar. Binomial ailesi için link fonksiyonu *logit* olmaktadır.  \n",
    "*data*=Veri kümesidir. Banka veri kümesinden %80 oranında bölünen training veri kümesi kullanılmıştır.  \n",
    "\n",
    "summary fonksiyonu ile oluşturulan model özetlenmektedir. Bu tabloda;  \n",
    "\n",
    "**Call** olarak görünen çıktı oluşturduğumuz modeli hatırlatma niteliğindedir.\n",
    "**Deviance residuals**: Çıktının bu kısmı, modelde kullanılan bireysel durumlar için sapma kalıntılarının (deviance residuals) istatistiklerini göstermektedir.  \n",
    "Bir sonraki çıktıda, coefficients, standart errors, z value (Wald z-statistic) ve ilgili p değerleri bulunmaktadır. Lojistik regresyon katsayısı (coefficients); bağımsız değişken bir birim arttığında sonuç değerinin lojit (log odds) değişimini verir.  \n",
    "**Standart hata**;.......................  \n",
    "**Null deviance ve residual deviance:**........................  \n",
    "\n",
    "\n",
    "\n",
    "\n"
   ]
  },
  {
   "cell_type": "code",
   "execution_count": 30,
   "metadata": {
    "collapsed": false
   },
   "outputs": [
    {
     "data": {
      "text/html": [
       "<dl class=dl-horizontal>\n",
       "\t<dt>5</dt>\n",
       "\t\t<dd>'NO'</dd>\n",
       "\t<dt>6</dt>\n",
       "\t\t<dd>'NO'</dd>\n",
       "\t<dt>8</dt>\n",
       "\t\t<dd>'NO'</dd>\n",
       "\t<dt>13</dt>\n",
       "\t\t<dd>'NO'</dd>\n",
       "\t<dt>14</dt>\n",
       "\t\t<dd>'NO'</dd>\n",
       "\t<dt>20</dt>\n",
       "\t\t<dd>'NO'</dd>\n",
       "</dl>\n"
      ],
      "text/latex": [
       "\\begin{description*}\n",
       "\\item[5] 'NO'\n",
       "\\item[6] 'NO'\n",
       "\\item[8] 'NO'\n",
       "\\item[13] 'NO'\n",
       "\\item[14] 'NO'\n",
       "\\item[20] 'NO'\n",
       "\\end{description*}\n"
      ],
      "text/markdown": [
       "5\n",
       ":   'NO'6\n",
       ":   'NO'8\n",
       ":   'NO'13\n",
       ":   'NO'14\n",
       ":   'NO'20\n",
       ":   'NO'\n",
       "\n"
      ],
      "text/plain": [
       "   5    6    8   13   14   20 \n",
       "\"NO\" \"NO\" \"NO\" \"NO\" \"NO\" \"NO\" "
      ]
     },
     "metadata": {},
     "output_type": "display_data"
    },
    {
     "data": {
      "text/plain": [
       "       \n",
       "predict  no yes\n",
       "    NO  794  58\n",
       "    YES  23  30"
      ]
     },
     "metadata": {},
     "output_type": "display_data"
    }
   ],
   "source": [
    "predict<- ifelse(predict(model,test,type=\"response\")>0.5,'YES','NO')\n",
    "head(predict)\n",
    "\n",
    "table(predict,test$y)\n",
    "\n"
   ]
  },
  {
   "cell_type": "markdown",
   "metadata": {},
   "source": [
    "#### predict Genel Kullanımı  \n",
    "\n",
    "*predict* fonksiyonu glm nesnesinin tahmin edilen sonucunu döndürür.  \n",
    "**predict(object, newdata, type=c(\"link\", \"response\", \"terms\")**  \n",
    "Parametrelerin kullanımı:  \n",
    "*object*: glm sınıfından glm fonksiyonu tarafından oluşturulan nesnedir. Banka veri kümesi için glm fonksiyonundan üretilen nesnemiz **model** idi.  \n",
    "*newdata*: Tahmin ediciler için gerekli olan değerleri içeren veri çerçevesidir. Kullanılacak newdata %20 oranında bölme işlemi yapılan test veri kümesidir.  \n",
    "*type:* Tahmin edilen değerlerin türünü içerir. link, response, terms olarak 3 çeşidi vardır. type=\"response\" tahmin edilme olasılığını verir.  \n",
    "\n",
    "\n",
    "AÇIKLAMA ..................\n",
    "\n",
    "table açıklama.....................\n"
   ]
  },
  {
   "cell_type": "markdown",
   "metadata": {},
   "source": [
    "Performance of Logistic Regression Model...................\n",
    "\n",
    "To evaluate the performance of a logistic regression model, we must consider few metrics. Irrespective of tool (SAS, R, Python) you would work on, always look for:\n",
    "\n",
    "*  AIC (Akaike Information Criteria) – The analogous metric of adjusted R² in logistic regression is AIC. AIC is the measure of fit which penalizes model for the number of model coefficients. Therefore, we always prefer model with minimum AIC value.\n",
    "\n",
    " \n",
    "\n",
    "*  Null Deviance and Residual Deviance – Null Deviance indicates the response predicted by a model with nothing but an intercept. Lower the value, better the model. Residual deviance indicates the response predicted by a model on adding independent variables. Lower the value, better the model.\n",
    "\n",
    " \n",
    "\n",
    "*  Confusion Matrix: It is nothing but a tabular representation of Actual vs Predicted values. This helps us to find the accuracy of the model and avoid overfitting. \n",
    "\n",
    "*  ROC Curve: Receiver Operating Characteristic(ROC) summarizes the model’s performance by evaluating the trade offs between true positive rate (sensitivity) and false positive rate(1- specificity). For plotting ROC, it is advisable to assume p > 0.5 since we are more concerned about success rate. ROC summarizes the predictive power for all possible values of p > 0.5.  The area under curve (AUC), referred to as index of accuracy(A) or concordance index, is a perfect performance metric for ROC curve. Higher the area under curve, better the prediction power of the model. Below is a sample ROC curve. The ROC of a perfect predictive model has TP equals 1 and FP equals 0. This curve will touch the top left corner of the graph.\n",
    "\n",
    "logit_roc\n",
    "\n",
    "Note: For model performance, you can also consider likelihood function. It is called so, because it selects the coefficient values which maximizes the likelihood of explaining the observed data. It indicates goodness of fit as its value approaches one, and a poor fit of the data as its value approaches zero."
   ]
  },
  {
   "cell_type": "code",
   "execution_count": 38,
   "metadata": {
    "collapsed": false
   },
   "outputs": [
    {
     "data": {
      "image/png": "[encoded data removed]",
      "text/plain": [
       "plot without title"
      ]
     },
     "metadata": {},
     "output_type": "display_data"
    }
   ],
   "source": [
    "library(ROCR)\n",
    "p <- predict(model, newdata=test, type=\"response\")\n",
    "pr <- prediction(p, test$y)\n",
    "prf <- performance(pr, measure = \"tpr\", x.measure = \"fpr\")\n",
    "plot(prf)"
   ]
  },
  {
   "cell_type": "markdown",
   "metadata": {},
   "source": [
    "Kodların açıklaması ve grafik yorumu....................."
   ]
  },
  {
   "cell_type": "code",
   "execution_count": null,
   "metadata": {
    "collapsed": true
   },
   "outputs": [],
   "source": []
  }
 ],
 "metadata": {
  "kernelspec": {
   "display_name": "R",
   "language": "R",
   "name": "ir"
  },
  "language_info": {
   "codemirror_mode": "r",
   "file_extension": ".r",
   "mimetype": "text/x-r-source",
   "name": "R",
   "pygments_lexer": "r",
   "version": "3.3.2"
  }
 },
 "nbformat": 4,
 "nbformat_minor": 2
}
