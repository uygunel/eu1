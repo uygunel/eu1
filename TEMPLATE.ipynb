{
 "cells": [
  {
   "cell_type": "markdown",
   "metadata": {
    "deletable": true,
    "editable": true
   },
   "source": [
    "# Karar Ağaçları ve Lojistik Regresyon Algoritmalarının R Ortamında Karşılaştırılması\n",
    "\n",
    "## Üyeler\n",
    "\n",
    "1. Birinci üye: Elif Uygun - uygunel@itu.edu.tr\n",
    "2. İkinci Üye: Gamze Kaptan - kaptang@itu.edu.tr\n",
    "\n",
    "## Projenin tanımı\n",
    "\n",
    "Bu projede Karar Ağaçları (Decision Tree) ve Lojistik Regresyon (Logistic Regression) algoritmaları ile veri analizinin nasıl yapıldığı gösterilecektir. Uygulama kısmında; veri madenciliği çözümleri ile istatistik kökenli algoritmaları bir programlama ara yüzü altında sunan R programından faydalanılacaktır. R'ın kendisine ait özel kütüphaneleri ile sayesinde Decision Tree ve Logistic Regression algoritmaları veri kümesinde işlenerek veri kümesine ait analizler ortaya konulacaktır. Veri kümemiz bir bankanın veritabanından alınmış olup bankadaki müşterilere ait çeşitli bilgileri içermektedir. Veri kümesinde bulunan nitelikler (attribute) ve örnekler (instance) her iki algoritmada analize ulaşmak için oldukça önemlidir. Müşterilere ait bilgiler Decision Tree ve Logistic Regression algoritmaları ile işlenerek bu müşterilerden hangilerinin bankaya ait olan ürünü alırken hangilerinin bu ürünü almayacakları tahmin edilerek tahmin oranının doğruluğu hesaplanacaktır.\n",
    "\n",
    "### Karar Ağaçları ve Karar Ağaçları Algoritması\n",
    "\n",
    "Karar Ağaçları sınıflama, özellik ve hedefe göre karar düğümleri (decision nodes) ve yaprak düğümlerinden (leaf nodes) oluşan ağaç yapısı formunda bir model oluşturan bir sınıflandırma yönetimidir. Sınıflandırma ve tahmin için sıkça kullanılan bir veri madenciliği (data mining) yaklaşımıdır. Bir karar alıcı tarafından tercihlerin, risklerin, kazançların ve hedeflerin tanımlanmasında yardımcı olmak için çeşitli karar düğümleri incelenebilir. Bu model, bir karar alıcıya karar alırken hangi faktörlerin göz önüne alınmasının belirlenmesinde yardımcı olur. Yapay Sinir Ağları(Artificial Neural Networks) gibi diğer metodolojilerin de sınıflandırma için kullanılmasına rağmen, karar ağaçları, kolay yorumu ve anlaşılabilirliği açısından karar vericiler açısından avantaj sağlamaktadır. \n",
    "Karar ağaçları;  \n",
    "\n",
    "+ Düşük maliyetli olması,  \n",
    "+ Anlaşılmasının,yorumlanmasının ve veritabanları ile entegrasyonunun kolay olması,  \n",
    "+ Çoğu makine öğrenmesi algoritması ya sayısal ya da sınıflandırma verileri için kullanışlı olmasına rağmen karar ağaçlarının her iki veri tipinin işlenmesi için kullanılması,  \n",
    "+ Güvenirliliklerinin iyi olması,  \n",
    "+ Yüksek miktardaki veriyi kısa sürede işleyebilmesi gibi nedenlerden dolayı en yaygın kullanılan sınıflandırma tekniklerinden biridir. \n",
    "\n",
    "Karar ağacı algoritması, veri setini küçük ve daha küçük parçalara bölerek ilerler. Karar ağacı tekniğini kullanarak verinin sınıflanması, öğrenme ve sınıflama olmak üzere iki aşamalıdır. Öğrenme aşamasında bir tane öğrenme kümesi oluşturulur. Bu öğrenme kümesindeki örnekleri (instance) en iyi ayıran nitelik (attribute) belirlenir. En iyi nitelik ağacın kök düğümü (root node) olmuş olur. Daha sonra bu kök düğümün alt düğümleri, alt düğümlerin de yine alt düğümleri veya yaprak düğümleri oluşturulur. Bu şekilde veriler küçük ve daha küçük verilere bölünmüş olur. Daha küçük verilere ayırma işlemi örneklerin hepsi aynı sınıfa ait, örnekleri bölecek nitelik kalmamış, kalan niteliklerin özelliklerini taşıyacak örnek kalmayana kadar devam eder ve yaprak düğümleriyle sonlanır. Sınıflama aşamasında ise test verisi oluşturulur ve test verisi karar ağacının doğruluğunu belirlemek amacıyla kullanılır. Veri setleri birçok nitelikten oluşmaktadır. Bu nitelikler veriyi daha iyi tanımamıza yardımcı olmaktadır. Öğrenme aşamasında örnekleri en iyi ayıran niteliğin belirlenip o niteliğin kök düğüm olduğunu söylemiştik. Veri setindeki en iyi niteliğin belirlenmesi için kullanılan en yaygın yöntem *Entropi* ölçümüdür.  \n",
    "\n",
    "\n",
    "Entropi kimyada bilinen anlamıyla rastgeleliğin, belirsizliğin ve beklenmeyen durumun ortaya çıkma olasılığını gösterir. Veri madenciliği yaklaşımında da aynı anlama geldiğinden dolayı en iyi niteliğin belirlenmesinde entropi ölçüsü en az olan nitelikler kullanılır. Çünkü entropisi yüksek olan nitelik o oranda belirsiz ve kararsızdır.\n",
    "Verilen bir $A_K$ alanının Entropi ölçüsünü bulan formüller şu şekildedir:\n",
    "\n",
    "$$E(C|A_K)=  \\sum_{j=1}^{M_K}  p(a_k,j)*[-\\sum_{i=1}^{N}  p(c_i|a_k,j)log_2p(c_i|a_k,j)]$$ \n",
    "\n",
    "Bu formülde;  \n",
    "\n",
    "$E(C|A_K)=  A_K$ alanının sınıflama özelliğinin Entropi ölçüsü,  \n",
    "$p(a_k,j)=a_k$ alanının j değerinde olma olasılığı,  \n",
    "$p(c_i|a_k,j)= a_k$ alanı j. değerindeyken sınıf değerinin $c_i$ olma olasılığı,  \n",
    "$M_k = a_k$  alanının içerdiği değerlerin sayısı; $j = 1,2,., M_k$,  \n",
    "$N$ = farklı sınıfların sayısı; $i = 1, 2,…, N$,  \n",
    "$K$ = niteliklerin sayısı; $k = 1,2,…, K$\n",
    "\n",
    "Eğer bir S kümesindeki elemanlar, kategorik olarak $C_1,C_2,C_3,...,C_i$ sınıflarına ayrıştırılırsa, S kümesindeki bir elemanın sınıfını belirlemek için gereken *bilgi* şu formülle hesaplanmaktadır.\n",
    "\n",
    "$$I(s_1,s_2,....s_i)=-\\sum_{i=1}^{m} p_ilog_2(p_i)$$  \n",
    "\n",
    "Bu formülde $p_i,C_i$  sınıfına ayrılma olasılığıdır. *Entropi* denklemi şu şekilde de ifade edilebilir.  \n",
    "\n",
    "$$E(A)=  \\sum_{i=1}^{n} \\left( \\frac{S_i}{S} \\right) I(s_i)$$\n",
    "\n",
    "Bu durumda A niteliği kullanılarak yapılacak dallanma işleminde, *Bilgi Kazancı(information gain)* şu formülle hesaplanmaktadır.\n",
    "\n",
    "$$Kazanc(A)=E(S)-E(A)$$  \n",
    "\n",
    "Burada *E(S)*; sistemin entropi değeri olurken *E(A)* ise A niteliğinin entropi değeridir. Her nitelik için ayrı ayrı bilgi kazancı hesaplanır ve bilgi kazancı en yüksek olan nitelik ağacın en üstünde konumlanarak *kök düğüm* olmuş olur. Bu işlemler her düğüm için örneklerin hepsi aynı sınıfa ait, örnekleri bölecek özellik kalmamış, kalan özelliklerin değerini taşıyan örnek olmayana kadar devam eder. Ve bu adımlar tamamlanarak karar agacı tamamlanmış olur. Şimdi az örnekli bir veri kümesi üzerinde *kök düğüm*'ün nasıl bulunduğuna bakalım:  \n",
    "\n",
    "\n",
    "#### Örnek Uygulama\n",
    "\n",
    "Bu örnek veri kümemizde hava, ebeveyn ve para durumuna göre o hafta ne yapılacağına karar verilecektir. Örnek veri kümesine bakıldığında;  \n",
    "\n",
    "|Hafta|Hava Durumu|Ebeveyn Durumu|Para Durumu|Karar|\n",
    "|---|---|---|---|---|\n",
    "|1.Hafta|Güneşli |Var|Var|Sinema|\n",
    "|2.Hafta|Güneşli|Yok|Var|Tenis|\n",
    "|3.Hafta|Rüzgarlı|Var|Var|Sinema|\n",
    "|4.Hafta|Yağmurlu|Var|Yok|Sinema|\n",
    "|5.Hafta|Yağmurlu|Yok|Var|Ev|\n",
    "|6.Hafta|Yağmurlu|Var|Yok|Sinema|\n",
    "|7.Hafta|Rüzgarlı|Yok|Yok|Sinema|\n",
    "|8.Hafta|Rüzgarlı|Yok|Var|Alışveriş|\n",
    "|9.Hafta|Rüzgarlı|Var|Var|Sinema|\n",
    "|10.Hafta|Güneşli|Yok|Var|Tenis|\n",
    "\n",
    "\n",
    "\n",
    "\n",
    "\n",
    "\n",
    "\n",
    "\n",
    "\n",
    "\n"
   ]
  },
  {
   "cell_type": "markdown",
   "metadata": {},
   "source": [
    "Veri setimizde toplam 10 örnek vardır. Bu 10 örnekten;  \n",
    "6 örnek için karar sinema(6/10),  \n",
    "2 örnek için karar tenis oynamak(2/10),  \n",
    "1 örnek için karar evde kalmak(1/10),  \n",
    "1 örnek için karar alışverişe gitmektir(1/10). S kümesindeki elemanlar 4 sınıfa ayrılmıştır. Her biri için sınıflara ayrılma olasılığı parantez içinde belirtilmiştir. İlk önce sistemin entropisi bulunacaktır. \n",
    "\n",
    "$Entropi=-(6/10) log_2(6/10)-2/10log_2(2/10)-1/10log_2(1/10)-1/10log_2(1/10)$; $E(S)=1,571$'dir. \n",
    "\n",
    "Kök düğümün hangisi olduğunu bulmak için niteliklerimiz olan; *hava, ebeveyn ve para* özelliklerimizin bilgi kazançlarını hesaplanıp en yüksek kazanca sahip olan nitelik kök düğüm olarak seçilecektir.Hava niteliğimiz için bilgi kazancı değeri; *Kazanç(Hava Durumu)=E(S)-E(Hava Durumu)* Bunun için hava durumunun entropi değerine ihtiyaç vardır.  \n",
    "\n",
    "Hava Durumu Güneşli, Rüzgarlı ve Yağmurlu şeklindedir. S kümesi Hava durumu için 3 sınıfa ayrılmıştır. $S_1$: Güneşli, $S_2$: Rüzgarlı, $S_3$: Yağmurlu\n",
    "\n",
    "* $S_1$ toplam 3 tane olup bunlardan 1'i sinemaya gitmek 2'si de tenis oynamaktır. $S_1$ 2 sınıfa ayrılmış olup bu sınıfların $S_1$'de bulunma olasılılarına göre bilgi değerleri \n",
    "\n",
    "$I(S_1)= -1/3log_2(1/3)-2/3log_2(2/3)=0,918$ \n",
    "\n",
    "* $S_2$ toplam 4 tane olup bunlardan 3'ü sinemeya gitmek 1'i de alışveriş yapmaktır. $S_2$ 2 sınıfa ayrılmış olup bu sınıfların $S_2$'de bulunma olasılılarına göre bilgi değerleri \n",
    "\n",
    "$I(S_2)=-3/4log_2(3/4)-1/4log_2(1/4)=0,811$\n",
    "\n",
    "* $S_3$ toplam 3 tane olup bunlardan 2'si sinemaya gitmek 1'i de evde kalmaktır. $S_3$ 2 sınıfa ayrılmış olup bu sınıfların $S_3$'te bulunma olasılılarına göre bilgi değerleri   \n",
    "\n",
    "$I(S_3)=-2/3log_2(2/3)-1/3log_2(1/3)=0,918$\n",
    "\n",
    "Herhangi bir A niteliği için *Entropi değeri* $$E(A)= \\sum_{i=1}^{n} \\left( \\frac{S_i}{S} \\right) I(s_i)$$ formülünden  \n",
    "\n",
    "$E(Hava Durumu)=3/10*0,918+4/10*0,811+3/10*0,918=0,8752$  \n",
    "\n",
    "Bu durumda hava durumunun *Bilgi Kazancı* = 1,571-0,8752=**0,70**\n",
    "olarak bulunur.\n",
    "\n",
    "Ebeveyn niteliği için bilgi kazancına bakılırsa; Ebeveyn durumu *var* veya *yok* şeklindedir. S kümesi için Ebeveyn niteliği 2 sınıfa ayrılmıştır. $S_1$: Var, $S_2$: Yok  \n",
    "\n",
    "* $S_1$ toplamda 5 tane olup 5'i de sinemaya gitmektir. $S_1$ 1 sınıfa ayrılmış olup bu sınıfın $S_1$'te bulunma olasılılarına göre bilgi değerleri    \n",
    "\n",
    "$I(var)=5/5log_2(5/5)=0$\n",
    "\n",
    "* $S_2$ toplamda 5 tane olup 2'si tenis, 1'i ev, 1'i sinema, 1'i de alışveriştir. $S_2$ 4 sınıfa ayrılmış olup bu sınıfların $S_2$'te bulunma olasılılarına göre bilgi değerleri  \n",
    "\n",
    "$I(yok)=-2/5log_2(2/5)-1/5log_2(1/5)-1/5log_2(1/5)-1/5log_2(1/5)=1,922 $\n",
    "\n",
    "Herhangi bir A niteliği için *Entropi değeri* $$E(A)= \\sum_{i=1}^{n} \\left( \\frac{S_i}{S} \\right) I(s_i)$$ formülünden  \n",
    "\n",
    "$E(ebevyn)=5/10*0 + 5/10*1,922=0,961$  \n",
    "\n",
    "Bu durumda ebevyn durumunun *Bilgi Kazancı* = 1,571-0,961=**0,61** olarak bulunur.\n",
    "\n",
    "Para durumu için de aynı işlemler yapıldığında *Bilgi Kazancı* **0,2816** şeklinde bulunur. Hava durumu, ebevyn ve para niteliklerinden bilgi kazancı en yüksek olan 0,70 ile hava durumudur. Bu nedenle *hava durumu* kök düğüm olmuş olur. Böylece az örnekli bir veri setinde kök düğümün bu şekilde hesaplama ile bulunuduğunu göstermiş olduk. Bizim üzerimizde çalışacağımız veri kümesi 4521 örnekli bir veri olduğundan dolayı bu şekilde hesaplama yaparak kök düğüme ulaşmamız çok uzun zaman alacaktır. Bu nedenle R studio üzerinde R'ın kendine ait kütüphaneleri kullanılarak sonuç alınacaktır. "
   ]
  },
  {
   "cell_type": "markdown",
   "metadata": {
    "collapsed": false,
    "deletable": true,
    "editable": true
   },
   "source": [
    "\n",
    "### Veri Seti:\n",
    "Veri setimiz Portekiz'e ait bir bankanın müşteri bilgilerini içermektedir. Bankada olan kampanyalar için bu müşteriler telefon ile aranmaktadır. Eğer müşteri kampanyaya ait ürünü almayı kabul ederse birkaç defa daha iletişime geçilmektedir. Bank.csv tablomuzda 4521 tane örnek (instance) olup, 16 + karar (y) niteliği (attribute) bulunmaktadır. Bu nitelikler örneklere ait özelliklerdir ve veriyi tanımamıza yardımcı olur. Bu niteliklere bakılacak olursa;  \n",
    "\n",
    " 1. **age**: Müşterilere ait yaş bilgisini içerir. Sayısal bir değerdir.  \n",
    " 2. **job**: Müşterilerin meslek bilgisini içerir.Kategorik olup *admin, unknown, unemployed, management, housemaid, entrepreneur, student, blue-collar, self-employed, retired, techinician, services* şeklinde 12 çeşittir.  \n",
    " 3. **marital**: Müşterilerin medeni durumlarını içermektedir. Kategorik olup *married, divorced, single* şeklinde 3 çeşittir.    \n",
    " 4. **education**: Müşterilere ait eğitim bilgilerini içermektedir.Kategorik olup *unknown, secondary, primary, tertiary* şeklinde 4 çeşittir.  \n",
    " 5. **default**: Müşterinin bankada kredisi olup olmadığının bilgisini içerir. Kategorik olup Yes, No şeklinde 2 çeşittir.  \n",
    " 6. **balance**: Müşterinin ortalama yıllık bakiyesini euro olarak ifade etmektedir. Sayısal bir değerdir.  \n",
    " 7. **housing**: Müşterinin konut kredisi olup olmadığının bilgisini içerir. Kategorik olup Yes, No şeklinde 2 çeşittir.      \n",
    " 8. **loan**: Müşterinin bireysel kredisinin olup olmadığının bilgisini içerir.Kategorik olup Yes, No şeklinde 2 çeşittir.  \n",
    " 9. **contact**: Müşteriye ait iletişim tipini belirtir. Kategorik olup unknown, telephone, cellular şeklinde 3 çeşittir.  \n",
    " 10. **day**: Bu kampanya için müşteriyle en son iletişime geçirilen ayın gün bilgisini içerir. Sayısal bir değerdir.  \n",
    " 11. **month**: Bu kampanya için müşteriyle en son iletişime geçirilen ayın bilgisini içerir. Kategorik bir değer olup *jan,feb,mar,apr,may,june,july,aug,sep,oct,nov,dec* şeklinde 12 çeşittir.  \n",
    " 12. **duration**:Bu kampanya için müşteriyle en son iletişime geçirilen görüşmenin saniye olarak süresini içerir. Sayısal bir değerdir.  \n",
    " 13. **campaign**: Bu kampanyada bir müşteri için kaç kez iletişime geçtiğinin bilgisini içerir. Sayısal bir değerdir.  \n",
    " 14. **pdays**: Bir önceki kampanyada müşteri ile en son iletişime geçilmesinden sonra kaç gün geçtiğini gösterir. Sayısal bir değerdir. Burada bulunan -1 değeri daha önce iletişime geçilmediğini göstermektedir.   \n",
    " 15. **previous**: Bir önceki kampanyada müşteri ile iletişime kaç defa geçirildiğinin bilgisini içerir. Sayısal bir değerdir.  \n",
    " 16. **poutcome**: Müşterinin bir önceki kampanyadaki ürünü alıp almadığının sonucunu içerir. Kategorik olup *unknown, other, failure, success* şeklinde 4 çeşittir.  \n",
    " 17. **y**:  Müşteri ile ilgili kredi verilip verilmemesinin kararının verildiği alandır. Kategorik olup Yes, No şeklinde 2 çeşittir.  \n",
    " \n",
    " Uygulama kısmında veri madenciliği çözümleri ile hem istatistik kökenli uygulamaları hem de yapay zeka kökenli algoritmaları bir programlama arayüzü altında sunan R Studio'dan yararlanılmıştır. Banka verisine ait veri kümesi txt olarak düzenlenmiştir. \n",
    " "
   ]
  },
  {
   "cell_type": "code",
   "execution_count": 7,
   "metadata": {
    "collapsed": false,
    "deletable": true,
    "editable": true
   },
   "outputs": [
    {
     "data": {
      "text/html": [
       "<table>\n",
       "<thead><tr><th scope=col>age</th><th scope=col>job</th><th scope=col>marital</th><th scope=col>education</th><th scope=col>default</th><th scope=col>balance</th><th scope=col>housing</th><th scope=col>loan</th><th scope=col>contact</th><th scope=col>day</th><th scope=col>month</th><th scope=col>duration</th><th scope=col>campaign</th><th scope=col>pdays</th><th scope=col>previous</th><th scope=col>poutcome</th><th scope=col>y</th></tr></thead>\n",
       "<tbody>\n",
       "\t<tr><td>30         </td><td>unemployed </td><td>married    </td><td>primary    </td><td>no         </td><td>1787       </td><td>no         </td><td>no         </td><td>cellular   </td><td>19         </td><td>oct        </td><td> 79        </td><td>1          </td><td> -1        </td><td>0          </td><td>unknown    </td><td>no         </td></tr>\n",
       "\t<tr><td>33         </td><td>services   </td><td>married    </td><td>secondary  </td><td>no         </td><td>4789       </td><td>yes        </td><td>yes        </td><td>cellular   </td><td>11         </td><td>may        </td><td>220        </td><td>1          </td><td>339        </td><td>4          </td><td>failure    </td><td>no         </td></tr>\n",
       "\t<tr><td>35         </td><td>management </td><td>single     </td><td>tertiary   </td><td>no         </td><td>1350       </td><td>yes        </td><td>no         </td><td>cellular   </td><td>16         </td><td>apr        </td><td>185        </td><td>1          </td><td>330        </td><td>1          </td><td>failure    </td><td>no         </td></tr>\n",
       "\t<tr><td>30         </td><td>management </td><td>married    </td><td>tertiary   </td><td>no         </td><td>1476       </td><td>yes        </td><td>yes        </td><td>unknown    </td><td> 3         </td><td>jun        </td><td>199        </td><td>4          </td><td> -1        </td><td>0          </td><td>unknown    </td><td>no         </td></tr>\n",
       "\t<tr><td>59         </td><td>blue-collar</td><td>married    </td><td>secondary  </td><td>no         </td><td>   0       </td><td>yes        </td><td>no         </td><td>unknown    </td><td> 5         </td><td>may        </td><td>226        </td><td>1          </td><td> -1        </td><td>0          </td><td>unknown    </td><td>no         </td></tr>\n",
       "\t<tr><td>35         </td><td>management </td><td>single     </td><td>tertiary   </td><td>no         </td><td> 747       </td><td>no         </td><td>no         </td><td>cellular   </td><td>23         </td><td>feb        </td><td>141        </td><td>2          </td><td>176        </td><td>3          </td><td>failure    </td><td>no         </td></tr>\n",
       "</tbody>\n",
       "</table>\n"
      ],
      "text/latex": [
       "\\begin{tabular}{r|lllllllllllllllll}\n",
       " age & job & marital & education & default & balance & housing & loan & contact & day & month & duration & campaign & pdays & previous & poutcome & y\\\\\n",
       "\\hline\n",
       "\t 30          & unemployed  & married     & primary     & no          & 1787        & no          & no          & cellular    & 19          & oct         &  79         & 1           &  -1         & 0           & unknown     & no         \\\\\n",
       "\t 33          & services    & married     & secondary   & no          & 4789        & yes         & yes         & cellular    & 11          & may         & 220         & 1           & 339         & 4           & failure     & no         \\\\\n",
       "\t 35          & management  & single      & tertiary    & no          & 1350        & yes         & no          & cellular    & 16          & apr         & 185         & 1           & 330         & 1           & failure     & no         \\\\\n",
       "\t 30          & management  & married     & tertiary    & no          & 1476        & yes         & yes         & unknown     &  3          & jun         & 199         & 4           &  -1         & 0           & unknown     & no         \\\\\n",
       "\t 59          & blue-collar & married     & secondary   & no          &    0        & yes         & no          & unknown     &  5          & may         & 226         & 1           &  -1         & 0           & unknown     & no         \\\\\n",
       "\t 35          & management  & single      & tertiary    & no          &  747        & no          & no          & cellular    & 23          & feb         & 141         & 2           & 176         & 3           & failure     & no         \\\\\n",
       "\\end{tabular}\n"
      ],
      "text/markdown": [
       "\n",
       "age | job | marital | education | default | balance | housing | loan | contact | day | month | duration | campaign | pdays | previous | poutcome | y | \n",
       "|---|---|---|---|---|---|\n",
       "| 30          | unemployed  | married     | primary     | no          | 1787        | no          | no          | cellular    | 19          | oct         |  79         | 1           |  -1         | 0           | unknown     | no          | \n",
       "| 33          | services    | married     | secondary   | no          | 4789        | yes         | yes         | cellular    | 11          | may         | 220         | 1           | 339         | 4           | failure     | no          | \n",
       "| 35          | management  | single      | tertiary    | no          | 1350        | yes         | no          | cellular    | 16          | apr         | 185         | 1           | 330         | 1           | failure     | no          | \n",
       "| 30          | management  | married     | tertiary    | no          | 1476        | yes         | yes         | unknown     |  3          | jun         | 199         | 4           |  -1         | 0           | unknown     | no          | \n",
       "| 59          | blue-collar | married     | secondary   | no          |    0        | yes         | no          | unknown     |  5          | may         | 226         | 1           |  -1         | 0           | unknown     | no          | \n",
       "| 35          | management  | single      | tertiary    | no          |  747        | no          | no          | cellular    | 23          | feb         | 141         | 2           | 176         | 3           | failure     | no          | \n",
       "\n",
       "\n"
      ],
      "text/plain": [
       "  age job         marital education default balance housing loan contact  day\n",
       "1 30  unemployed  married primary   no      1787    no      no   cellular 19 \n",
       "2 33  services    married secondary no      4789    yes     yes  cellular 11 \n",
       "3 35  management  single  tertiary  no      1350    yes     no   cellular 16 \n",
       "4 30  management  married tertiary  no      1476    yes     yes  unknown   3 \n",
       "5 59  blue-collar married secondary no         0    yes     no   unknown   5 \n",
       "6 35  management  single  tertiary  no       747    no      no   cellular 23 \n",
       "  month duration campaign pdays previous poutcome y \n",
       "1 oct    79      1         -1   0        unknown  no\n",
       "2 may   220      1        339   4        failure  no\n",
       "3 apr   185      1        330   1        failure  no\n",
       "4 jun   199      4         -1   0        unknown  no\n",
       "5 may   226      1         -1   0        unknown  no\n",
       "6 feb   141      2        176   3        failure  no"
      ]
     },
     "metadata": {},
     "output_type": "display_data"
    }
   ],
   "source": [
    "data<-read.table(\"Banka.txt\",header=T,sep=\"\\t\")\n",
    "head(data)"
   ]
  },
  {
   "cell_type": "markdown",
   "metadata": {},
   "source": [
    "**read.table** fonksiyonu dosyayı tablo formatında okur ve dosyadaki alanlara ve satırlara karşılık gelen durumlarla ilgili olarak bir veri çerçevesi oluşturur.\n",
    "#### read.table Kullanımı  \n",
    "read.table(<span style=\"color:blue\"> file, </span> <span style=\"color:black\"> header=FALSE, </span> <span style=\"color:red\"> sep=\"\", </span>) şeklindedir.  \n",
    "Burada <span style=\"color:blue\">file </span> parametresi okunacak verinin dosya ismidir. Buraya dosyanın tam yolu yazılabileceği gibi sadece adı da yazılabilir. Eğer ki dosya R'ın çalıştığı dizinde bulunuyorsa dosyanın sadece adını yazmak yeterlidir. *Getwd() *komutu ile R'nin çalıştığı dizinin yolu öğrenilir. "
   ]
  },
  {
   "cell_type": "code",
   "execution_count": 11,
   "metadata": {
    "collapsed": false
   },
   "outputs": [
    {
     "data": {
      "text/html": [
       "'C:/Users/Elif'"
      ],
      "text/latex": [
       "'C:/Users/Elif'"
      ],
      "text/markdown": [
       "'C:/Users/Elif'"
      ],
      "text/plain": [
       "[1] \"C:/Users/Elif\""
      ]
     },
     "metadata": {},
     "output_type": "display_data"
    }
   ],
   "source": [
    "getwd()"
   ]
  },
  {
   "cell_type": "markdown",
   "metadata": {},
   "source": [
    "Bu bilgisayarda R'ın çalıştığı dizin C'de Users'ın altında Elif dizininin olduğu yerdedir. Banka dosyamızı bu dizinin altına koyduğumuz için sadece dosya adını ve uzantısını yazmamız yeterli oldu.  \n",
    "*header* parametresi; dosyadaki değişkenlerin adlarını ilk satırda içerip içermediğinin bilgisini içeren mantıksal bir değerdir. Default olarak FALSE değerindedir. Banka dosyamızda ilk satırda değişkenlerin ismi yazılmıştır. Bu nedenle TRUE değerini alır.  \n",
    "<span style=\"color:red\"> sep </span> parametresi ayırıcı karakterdir. Satırlardaki her bir değerin birbirinden nasıl ayrıldığını belirtmek için kullanılır. Default değeri \"\" şeklindedir. Bizim verimizde değerler birbirinden tab ile ayrıldıklarından dolayı sep=\"\\t\" 'dir. Veri setimizi data isimli bir değişkene atadık. Veri setimiz 4521 örnekli olduğundan dolayı bütün satırları yazmak yerine head fonksiyonu ile ilk 6 satır yazılmış oldu.  \n",
    "**Örneğin;** ilk örneğimiz 30 yaşında, işsiz, evli, ilkokul mezunu, aylık geliri 1787 euro olan, en son iletişime 19 ekimde 79 sn'lik bir telefon görüşmesiyle geçilmiş, önceki kampanyadaki ürünü alıp almadığı bilinmeyen bir müşteridir.\n"
   ]
  },
  {
   "cell_type": "code",
   "execution_count": 12,
   "metadata": {
    "collapsed": false
   },
   "outputs": [
    {
     "data": {
      "text/plain": [
       "      age                 job          marital         education    default   \n",
       " Min.   :19.00   management :969   divorced: 528   primary  : 678   no :4445  \n",
       " 1st Qu.:33.00   blue-collar:946   married :2797   secondary:2306   yes:  76  \n",
       " Median :39.00   technician :768   single  :1196   tertiary :1350             \n",
       " Mean   :41.17   admin.     :478                   unknown  : 187             \n",
       " 3rd Qu.:49.00   services   :417                                              \n",
       " Max.   :87.00   retired    :230                                              \n",
       "                 (Other)    :713                                              \n",
       "    balance      housing     loan           contact          day       \n",
       " Min.   :-3313   no :1962   no :3830   cellular :2896   Min.   : 1.00  \n",
       " 1st Qu.:   69   yes:2559   yes: 691   telephone: 301   1st Qu.: 9.00  \n",
       " Median :  444                         unknown  :1324   Median :16.00  \n",
       " Mean   : 1423                                          Mean   :15.92  \n",
       " 3rd Qu.: 1480                                          3rd Qu.:21.00  \n",
       " Max.   :71188                                          Max.   :31.00  \n",
       "                                                                       \n",
       "     month         duration       campaign          pdays       \n",
       " may    :1398   Min.   :   4   Min.   : 1.000   Min.   : -1.00  \n",
       " jul    : 706   1st Qu.: 104   1st Qu.: 1.000   1st Qu.: -1.00  \n",
       " aug    : 633   Median : 185   Median : 2.000   Median : -1.00  \n",
       " jun    : 531   Mean   : 264   Mean   : 2.794   Mean   : 39.77  \n",
       " nov    : 389   3rd Qu.: 329   3rd Qu.: 3.000   3rd Qu.: -1.00  \n",
       " apr    : 293   Max.   :3025   Max.   :50.000   Max.   :871.00  \n",
       " (Other): 571                                                   \n",
       "    previous          poutcome      y       \n",
       " Min.   : 0.0000   failure: 490   no :4000  \n",
       " 1st Qu.: 0.0000   other  : 197   yes: 521  \n",
       " Median : 0.0000   success: 129             \n",
       " Mean   : 0.5426   unknown:3705             \n",
       " 3rd Qu.: 0.0000                            \n",
       " Max.   :25.0000                            \n",
       "                                            "
      ]
     },
     "metadata": {},
     "output_type": "display_data"
    }
   ],
   "source": [
    "summary(data)"
   ]
  },
  {
   "cell_type": "markdown",
   "metadata": {},
   "source": [
    "**Summary** fonksiyonu çeşitli model oluşturma fonksiyonlarının sonuç özetlerini üretmek için kullanılan genel işlevli bir fonksiyondur. Summary fonksiyonu ile sayısal değerli niteliklerin önemli istatistiksel değerleri elde edilimiş olur. Sayısal değerlerin en küçük değeri *(min)*, en yüksek değeri *(max)*, ortalaması *(mean)*, ortanca değeri *(median)*, median değerinden küçük olan değerlerin ortancası *(1st Quartile)*, median değeriden büyük olan değerlerin ortancası *(3rd Quartile)* gibi önemli istatistiksel değerleri elde edilir. Kategorik değerli niteliklerin ise her bir kategoriden kaç tane olduğunun özeti verilmektedir. Örneğin yaş niteliğine (sayısal) bakıldığında müşterilerden en genç kişi 19 yaşında iken, en yaşlı kişi 87 yaşındadır. 4521 müşterinin yaş ortalaması 41.17'dir. Median değeri 39 iken, 1st Quartile 33 ve 3rd Quardile değeri 49'dur. Evlilik niteliğine (kategorik) bakıldığında ise 528 tane boşanmış (divorced), 2797 tane evli (married), 1196 tane de bekar (single) müşteri olduğu görülmektedir.\n"
   ]
  },
  {
   "cell_type": "code",
   "execution_count": 18,
   "metadata": {
    "collapsed": false
   },
   "outputs": [
    {
     "data": {
      "image/png": "[encoded data removed]",
      "text/plain": [
       "Plot with title \"Histogram of data$age\""
      ]
     },
     "metadata": {},
     "output_type": "display_data"
    }
   ],
   "source": [
    "hist(data$age, col = \"light blue\", freq = TRUE,labels=TRUE)"
   ]
  },
  {
   "cell_type": "markdown",
   "metadata": {},
   "source": [
    "**hist** fonksiyonu ile yaş-frekans arasındaki ilişki gösterilerek hangi yaş grubunda kaç tane müşteri olduğu görülmektedir."
   ]
  },
  {
   "cell_type": "markdown",
   "metadata": {},
   "source": [
    "Müşteri kararının tahmin edilmesi için karar ağacı algoritmalarından faydalanılmıştır. R'ın kendisine ait olan rpart ve party kütüphaneleri kullanılmıştır.  Brieman, Friedman, Olshen ve Stone tarafından 1984 tarihinde geliştirilen sınıflandırma ve regresyon ağaçları(classification and regression trees(CART)) rpart paketi aracılığıyla üretilir.\n"
   ]
  },
  {
   "cell_type": "code",
   "execution_count": 1,
   "metadata": {
    "collapsed": false
   },
   "outputs": [
    {
     "name": "stderr",
     "output_type": "stream",
     "text": [
      "Warning message:\n",
      "\"package 'rpart.plot' was built under R version 3.3.3\""
     ]
    },
    {
     "data": {
      "image/png": "[encoded data removed]",
      "text/plain": [
       "plot without title"
      ]
     },
     "metadata": {},
     "output_type": "display_data"
    }
   ],
   "source": [
    "library(rpart)\n",
    "library(rpart.plot)\n",
    "data<-read.table(\"Banka.txt\",header=T,sep=\"\\t\")\n",
    "elif<-rpart(y~.,data=data,method=\"class\")\n",
    "prp(elif,cex=0.9,box.palette=c(\"red\",\"palegreen3\"),extra=1)\n",
    "legend(\"bottomright\",legend=c(\"yes\",\"no\"),box.col=c(\"red\",\"green\"))\n",
    "\n"
   ]
  },
  {
   "cell_type": "markdown",
   "metadata": {
    "collapsed": false
   },
   "source": [
    "rpart ve rpart.plot paketleri R'nin çalıştığı dizine install.packages(\"rpart\") ve install.packages(\"rpart.plot\") kodları ile yüklenmiştir.  \n",
    "#####  rpart Genel Kullanımı  \n",
    "rpart ile sınıflandırma ve regresyon analizleri yapılmaktadır.  \n",
    "**rpart**(<span style=\"color:blue\">formula </span>,data,<span style=\"color:red\"> method </span>).  \n",
    "Parametrelerin kullanımı,  \n",
    "<span style=\"color:blue\">formula </span>=*sonuç~nitelik1+nitelik2+..... Banka verisinde sonucumuz y alanında saklıdır. 16 tane nitelik olduğundan tek tek yazmak yerine **.** yazılmıştır.,  \n",
    "data=Veri kümesi,  \n",
    "<span style=\"color:red\"> method </span>=\"class\" (sınıflandırma ağacı için), \"anova\" (regresyon ağacı için)*  Sınıflandırma ağacı oluşturalacağı için **class** yazılmıştır.  \n",
    "Yaygın kullanımı 3 parametreli şekildedir. *control, weights, subset* şeklinde opsiyonel parametreler de alabilir. \n",
    "#### prp Genel Kullanımı\n",
    "rpart.plot paketinin içinde kullanılan bir plot fonksiyondur.  \n",
    "**prp**(<span style=\"color:blue\"> x </span>,cex,box.pallet,<span style=\"color:red\"> extra </span>)  \n",
    "Parametrelerin kullanımı;  \n",
    "<span style=\"color:blue\"> x </span>= rpart nesnesidir. Tek zorunlu argumandır.  \n",
    "*cex* ile yazı boyutu ayarlanır.  \n",
    "*box.palette* ile düğüm sonucunda bulunan farklı değerler renklendirilir.  \n",
    "<span style=\"color:red\"> extra </span> ile düğüm sonucunda bulunan sayısal değerler yazılır."
   ]
  },
  {
   "cell_type": "markdown",
   "metadata": {
    "collapsed": true
   },
   "source": [
    "#### Karar Ağacının Yorumlanması:  \n",
    "1. Ağacın kök düğümünü mevduatı satmaya çalışan banka çalışanlarının müşterilerle telefonda yaptığı görüşmenin süresi(duration) oluşturmaktadır. Müşteri sayısı 4521 olan bir ortamda müşterilerin 4162'si telefonla 646 sn'den daha az konuşurken 359'u 646 sn'den daha fazla konuşmuştur.  \n",
    "2. 646 sn'den daha az konuşan 4162 müşterinin yaklaşık 4047'si bir önceki kampanyadaki ürünü almamış (failure), ürünü alıp almadığı bilinmeyen (unknown) ve diğer durumda (other) olan müşteriler iken 115'i satın alan (success) müşterilerdir. Bu 4047 müşterinin 2628'nin telefonla yaptığı görüşme süresi 222 sn'den daha azken 1419'nun telefonla yaptığı görüşme süresi 222 sn'den daha fazladır. Telefonla yaptığı görüşme süresi 222 sn'den daha az olan 2628 müşterinin 2563'ü mevduatı satın almazken 65'i mevduatı satın almıştır *(1. yaprak düğüm)*. \n",
    "3.  Görüşme süresi 222 sn'den daha fazla olan 1419 müşteriden 1358'i bu telefon görüşmesini ocak, şubat, nisan, mayıs, haziran, temmuz, ağustos ve kasım aylarında gerçekleştirmiştir. Bu 1358 müşteriden 1347'sinin bir önceki kampanya çalışması için aranmasının üzerinden 373 günden daha az bir zaman geçmiştir. Bu 1347 müşteriden 1189'u mevduatı satın almazken 158'i mevduatı satın almıştır *(2. yaprak düğüm)*. Bu 1358 müşteriden 11 kişinin bir önceki kampanya çalışması için aranmasının üstünden 373 günden fazla bir zaman geçmiştir. Bu müşterilerden 10'u mevduatı satın alırken 1'i mevduatı satın almamıştır *(3. yaprak düğüm)*.  \n",
    "4. Görüşme süresi 222 sn'den daha fazla konuşan 1419 müşterinin 61'i bu telefon görüşmesini mart, eylül, ekim ve aralık aylarında gerçekleştirmiştir. Bu 61 müşteriden 32'si mart, eylül, ekim ve aralık aylarının 16'sından önce aranırken 29'u bu ayların 16'sından sonra aranmıştır. 16'sından önce aranan 32 müşteriden 22'si mevduatı satın almazken 10'u mevduatı satın almıştır *(4. yaprak düğüm)*.  \n",
    "5. 16'sından sonra aranan 29 müşteriden 22'si mevduatı satın alırken 9'u mevduatı satın almamıştır *(5. yaprak düğüm)*.  \n",
    "6. Görüşme süresi 646 sn'den daha az olan ve bir önceki kampanyadaki ürünü satın aldığı bilinen 115 müşteriden 29'u telefonla 180 sn'den daha az konuşurken 86'sı 180 sn'den fazla konuşmuştur.(180 ile 646 sn arasında). 180 sn'den az daha az konuşan 29 müşteriden 20'si mevduatı satın almazken 9'u satın almıştır *(6. yaprak düğüm)*. \n",
    "7. 180 sn'den fazla konuşan 86 kişiden 67'si mevduatı satın alırken 19'u satın almamıştır* (7. yaprak düğüm)*.  \n",
    "8. Görüşme süresi 646 sn'den daha fazla olan 359 müşteriden 205'nin medeni durumu evli deği iken 154'nün medeni durumu evlidir . Bu 205 müşterinin 168'nin meslekleri yönetici(admin), mavi yakalı(blue-collar), girişimci(entrepreneur), hizmetçi(housemaid), idareci(management), kendi işi olan(self employed), hizmet eden(services), öğrenci(student) veya işsiz(unemployed)'dir. Bu 168 müşteriden 107'si mevduatı satın almazken 61'i satın almıştır. *(8. düğüm)*  \n",
    "9. Bu 359 müşteriden 37'sinin ise meslekleri bilinmeyen(unknown), emekli(retired) ve teknisyen(technician)'dir. Bu müşterilerden 24'ü mevduatı satın alırken 13'ü satın almamıştır. *(9. düğüm)*\n",
    "10. Medeni durumu evli olan 154 müşteriden 95'i mevduatı satın alırken 59'u mevduatı satın almaıştır. *(10.düğüm)* \n"
   ]
  },
  {
   "cell_type": "markdown",
   "metadata": {},
   "source": [
    "### Veri Kümesini Bölme ve Tahminleme"
   ]
  },
  {
   "cell_type": "code",
   "execution_count": 46,
   "metadata": {
    "collapsed": false
   },
   "outputs": [
    {
     "data": {
      "text/html": [
       "<table>\n",
       "<thead><tr><th></th><th scope=col>age</th><th scope=col>job</th><th scope=col>marital</th><th scope=col>education</th><th scope=col>default</th><th scope=col>balance</th><th scope=col>housing</th><th scope=col>loan</th><th scope=col>contact</th><th scope=col>day</th><th scope=col>month</th><th scope=col>duration</th><th scope=col>campaign</th><th scope=col>pdays</th><th scope=col>previous</th><th scope=col>poutcome</th><th scope=col>y</th></tr></thead>\n",
       "<tbody>\n",
       "\t<tr><th scope=row>1066</th><td>30        </td><td>unemployed</td><td>married   </td><td>tertiary  </td><td>no        </td><td>   0      </td><td>yes       </td><td>no        </td><td>cellular  </td><td>18        </td><td>nov       </td><td>756       </td><td>1         </td><td>-1        </td><td>0         </td><td>unknown   </td><td>no        </td></tr>\n",
       "\t<tr><th scope=row>1700</th><td>49        </td><td>technician</td><td>married   </td><td>unknown   </td><td>no        </td><td> 323      </td><td>yes       </td><td>no        </td><td>cellular  </td><td>18        </td><td>nov       </td><td> 41       </td><td>2         </td><td>-1        </td><td>0         </td><td>unknown   </td><td>no        </td></tr>\n",
       "\t<tr><th scope=row>3027</th><td>39        </td><td>management</td><td>divorced  </td><td>tertiary  </td><td>no        </td><td>  26      </td><td>no        </td><td>no        </td><td>unknown   </td><td>18        </td><td>jun       </td><td>311       </td><td>5         </td><td>-1        </td><td>0         </td><td>unknown   </td><td>no        </td></tr>\n",
       "\t<tr><th scope=row>4194</th><td>48        </td><td>services  </td><td>divorced  </td><td>secondary </td><td>no        </td><td>3186      </td><td>no        </td><td>yes       </td><td>cellular  </td><td> 9        </td><td>apr       </td><td>104       </td><td>1         </td><td>-1        </td><td>0         </td><td>unknown   </td><td>no        </td></tr>\n",
       "\t<tr><th scope=row>3755</th><td>36        </td><td>management</td><td>single    </td><td>tertiary  </td><td>no        </td><td>2944      </td><td>no        </td><td>no        </td><td>cellular  </td><td>18        </td><td>aug       </td><td>882       </td><td>8         </td><td>-1        </td><td>0         </td><td>unknown   </td><td>yes       </td></tr>\n",
       "\t<tr><th scope=row>2796</th><td>36        </td><td>technician</td><td>divorced  </td><td>tertiary  </td><td>no        </td><td>1174      </td><td>yes       </td><td>no        </td><td>cellular  </td><td>18        </td><td>nov       </td><td>192       </td><td>2         </td><td>-1        </td><td>0         </td><td>unknown   </td><td>no        </td></tr>\n",
       "</tbody>\n",
       "</table>\n"
      ],
      "text/latex": [
       "\\begin{tabular}{r|lllllllllllllllll}\n",
       "  & age & job & marital & education & default & balance & housing & loan & contact & day & month & duration & campaign & pdays & previous & poutcome & y\\\\\n",
       "\\hline\n",
       "\t1066 & 30         & unemployed & married    & tertiary   & no         &    0       & yes        & no         & cellular   & 18         & nov        & 756        & 1          & -1         & 0          & unknown    & no        \\\\\n",
       "\t1700 & 49         & technician & married    & unknown    & no         &  323       & yes        & no         & cellular   & 18         & nov        &  41        & 2          & -1         & 0          & unknown    & no        \\\\\n",
       "\t3027 & 39         & management & divorced   & tertiary   & no         &   26       & no         & no         & unknown    & 18         & jun        & 311        & 5          & -1         & 0          & unknown    & no        \\\\\n",
       "\t4194 & 48         & services   & divorced   & secondary  & no         & 3186       & no         & yes        & cellular   &  9         & apr        & 104        & 1          & -1         & 0          & unknown    & no        \\\\\n",
       "\t3755 & 36         & management & single     & tertiary   & no         & 2944       & no         & no         & cellular   & 18         & aug        & 882        & 8          & -1         & 0          & unknown    & yes       \\\\\n",
       "\t2796 & 36         & technician & divorced   & tertiary   & no         & 1174       & yes        & no         & cellular   & 18         & nov        & 192        & 2          & -1         & 0          & unknown    & no        \\\\\n",
       "\\end{tabular}\n"
      ],
      "text/markdown": [
       "\n",
       "| <!--/--> | age | job | marital | education | default | balance | housing | loan | contact | day | month | duration | campaign | pdays | previous | poutcome | y | \n",
       "|---|---|---|---|---|---|\n",
       "| 1066 | 30         | unemployed | married    | tertiary   | no         |    0       | yes        | no         | cellular   | 18         | nov        | 756        | 1          | -1         | 0          | unknown    | no         | \n",
       "| 1700 | 49         | technician | married    | unknown    | no         |  323       | yes        | no         | cellular   | 18         | nov        |  41        | 2          | -1         | 0          | unknown    | no         | \n",
       "| 3027 | 39         | management | divorced   | tertiary   | no         |   26       | no         | no         | unknown    | 18         | jun        | 311        | 5          | -1         | 0          | unknown    | no         | \n",
       "| 4194 | 48         | services   | divorced   | secondary  | no         | 3186       | no         | yes        | cellular   |  9         | apr        | 104        | 1          | -1         | 0          | unknown    | no         | \n",
       "| 3755 | 36         | management | single     | tertiary   | no         | 2944       | no         | no         | cellular   | 18         | aug        | 882        | 8          | -1         | 0          | unknown    | yes        | \n",
       "| 2796 | 36         | technician | divorced   | tertiary   | no         | 1174       | yes        | no         | cellular   | 18         | nov        | 192        | 2          | -1         | 0          | unknown    | no         | \n",
       "\n",
       "\n"
      ],
      "text/plain": [
       "     age job        marital  education default balance housing loan contact \n",
       "1066 30  unemployed married  tertiary  no         0    yes     no   cellular\n",
       "1700 49  technician married  unknown   no       323    yes     no   cellular\n",
       "3027 39  management divorced tertiary  no        26    no      no   unknown \n",
       "4194 48  services   divorced secondary no      3186    no      yes  cellular\n",
       "3755 36  management single   tertiary  no      2944    no      no   cellular\n",
       "2796 36  technician divorced tertiary  no      1174    yes     no   cellular\n",
       "     day month duration campaign pdays previous poutcome y  \n",
       "1066 18  nov   756      1        -1    0        unknown  no \n",
       "1700 18  nov    41      2        -1    0        unknown  no \n",
       "3027 18  jun   311      5        -1    0        unknown  no \n",
       "4194  9  apr   104      1        -1    0        unknown  no \n",
       "3755 18  aug   882      8        -1    0        unknown  yes\n",
       "2796 18  nov   192      2        -1    0        unknown  no "
      ]
     },
     "metadata": {},
     "output_type": "display_data"
    },
    {
     "data": {
      "text/html": [
       "<table>\n",
       "<thead><tr><th></th><th scope=col>age</th><th scope=col>job</th><th scope=col>marital</th><th scope=col>education</th><th scope=col>default</th><th scope=col>balance</th><th scope=col>housing</th><th scope=col>loan</th><th scope=col>contact</th><th scope=col>day</th><th scope=col>month</th><th scope=col>duration</th><th scope=col>campaign</th><th scope=col>pdays</th><th scope=col>previous</th><th scope=col>poutcome</th><th scope=col>y</th></tr></thead>\n",
       "<tbody>\n",
       "\t<tr><th scope=row>6</th><td>35         </td><td>management </td><td>single     </td><td>tertiary   </td><td>no         </td><td> 747       </td><td>no         </td><td>no         </td><td>cellular   </td><td>23         </td><td>feb        </td><td>141        </td><td>2          </td><td>176        </td><td>3          </td><td>failure    </td><td>no         </td></tr>\n",
       "\t<tr><th scope=row>13</th><td>36         </td><td>technician </td><td>married    </td><td>tertiary   </td><td>no         </td><td>1109       </td><td>no         </td><td>no         </td><td>cellular   </td><td>13         </td><td>aug        </td><td>328        </td><td>2          </td><td> -1        </td><td>0          </td><td>unknown    </td><td>no         </td></tr>\n",
       "\t<tr><th scope=row>26</th><td>41         </td><td>management </td><td>married    </td><td>tertiary   </td><td>no         </td><td>5883       </td><td>no         </td><td>no         </td><td>cellular   </td><td>20         </td><td>nov        </td><td>182        </td><td>2          </td><td> -1        </td><td>0          </td><td>unknown    </td><td>no         </td></tr>\n",
       "\t<tr><th scope=row>31</th><td>68         </td><td>retired    </td><td>divorced   </td><td>secondary  </td><td>no         </td><td>4189       </td><td>no         </td><td>no         </td><td>telephone  </td><td>14         </td><td>jul        </td><td>897        </td><td>2          </td><td> -1        </td><td>0          </td><td>unknown    </td><td>yes        </td></tr>\n",
       "\t<tr><th scope=row>34</th><td>32         </td><td>management </td><td>single     </td><td>tertiary   </td><td>no         </td><td>2536       </td><td>yes        </td><td>no         </td><td>cellular   </td><td>26         </td><td>aug        </td><td>958        </td><td>6          </td><td> -1        </td><td>0          </td><td>unknown    </td><td>yes        </td></tr>\n",
       "\t<tr><th scope=row>38</th><td>32         </td><td>blue-collar</td><td>married    </td><td>secondary  </td><td>no         </td><td>2089       </td><td>yes        </td><td>no         </td><td>cellular   </td><td>14         </td><td>nov        </td><td>132        </td><td>1          </td><td> -1        </td><td>0          </td><td>unknown    </td><td>yes        </td></tr>\n",
       "</tbody>\n",
       "</table>\n"
      ],
      "text/latex": [
       "\\begin{tabular}{r|lllllllllllllllll}\n",
       "  & age & job & marital & education & default & balance & housing & loan & contact & day & month & duration & campaign & pdays & previous & poutcome & y\\\\\n",
       "\\hline\n",
       "\t6 & 35          & management  & single      & tertiary    & no          &  747        & no          & no          & cellular    & 23          & feb         & 141         & 2           & 176         & 3           & failure     & no         \\\\\n",
       "\t13 & 36          & technician  & married     & tertiary    & no          & 1109        & no          & no          & cellular    & 13          & aug         & 328         & 2           &  -1         & 0           & unknown     & no         \\\\\n",
       "\t26 & 41          & management  & married     & tertiary    & no          & 5883        & no          & no          & cellular    & 20          & nov         & 182         & 2           &  -1         & 0           & unknown     & no         \\\\\n",
       "\t31 & 68          & retired     & divorced    & secondary   & no          & 4189        & no          & no          & telephone   & 14          & jul         & 897         & 2           &  -1         & 0           & unknown     & yes        \\\\\n",
       "\t34 & 32          & management  & single      & tertiary    & no          & 2536        & yes         & no          & cellular    & 26          & aug         & 958         & 6           &  -1         & 0           & unknown     & yes        \\\\\n",
       "\t38 & 32          & blue-collar & married     & secondary   & no          & 2089        & yes         & no          & cellular    & 14          & nov         & 132         & 1           &  -1         & 0           & unknown     & yes        \\\\\n",
       "\\end{tabular}\n"
      ],
      "text/markdown": [
       "\n",
       "| <!--/--> | age | job | marital | education | default | balance | housing | loan | contact | day | month | duration | campaign | pdays | previous | poutcome | y | \n",
       "|---|---|---|---|---|---|\n",
       "| 6 | 35          | management  | single      | tertiary    | no          |  747        | no          | no          | cellular    | 23          | feb         | 141         | 2           | 176         | 3           | failure     | no          | \n",
       "| 13 | 36          | technician  | married     | tertiary    | no          | 1109        | no          | no          | cellular    | 13          | aug         | 328         | 2           |  -1         | 0           | unknown     | no          | \n",
       "| 26 | 41          | management  | married     | tertiary    | no          | 5883        | no          | no          | cellular    | 20          | nov         | 182         | 2           |  -1         | 0           | unknown     | no          | \n",
       "| 31 | 68          | retired     | divorced    | secondary   | no          | 4189        | no          | no          | telephone   | 14          | jul         | 897         | 2           |  -1         | 0           | unknown     | yes         | \n",
       "| 34 | 32          | management  | single      | tertiary    | no          | 2536        | yes         | no          | cellular    | 26          | aug         | 958         | 6           |  -1         | 0           | unknown     | yes         | \n",
       "| 38 | 32          | blue-collar | married     | secondary   | no          | 2089        | yes         | no          | cellular    | 14          | nov         | 132         | 1           |  -1         | 0           | unknown     | yes         | \n",
       "\n",
       "\n"
      ],
      "text/plain": [
       "   age job         marital  education default balance housing loan contact  \n",
       "6  35  management  single   tertiary  no       747    no      no   cellular \n",
       "13 36  technician  married  tertiary  no      1109    no      no   cellular \n",
       "26 41  management  married  tertiary  no      5883    no      no   cellular \n",
       "31 68  retired     divorced secondary no      4189    no      no   telephone\n",
       "34 32  management  single   tertiary  no      2536    yes     no   cellular \n",
       "38 32  blue-collar married  secondary no      2089    yes     no   cellular \n",
       "   day month duration campaign pdays previous poutcome y  \n",
       "6  23  feb   141      2        176   3        failure  no \n",
       "13 13  aug   328      2         -1   0        unknown  no \n",
       "26 20  nov   182      2         -1   0        unknown  no \n",
       "31 14  jul   897      2         -1   0        unknown  yes\n",
       "34 26  aug   958      6         -1   0        unknown  yes\n",
       "38 14  nov   132      1         -1   0        unknown  yes"
      ]
     },
     "metadata": {},
     "output_type": "display_data"
    },
    {
     "data": {
      "text/html": [
       "3616"
      ],
      "text/latex": [
       "3616"
      ],
      "text/markdown": [
       "3616"
      ],
      "text/plain": [
       "[1] 3616"
      ]
     },
     "metadata": {},
     "output_type": "display_data"
    }
   ],
   "source": [
    "size<- nrow(data)*0.8\n",
    "index<-sample(1:nrow(data),size=size)\n",
    "training<-data[index,]\n",
    "test<-data[-index,]\n",
    "head(training)\n",
    "head(test)\n",
    "nrow(training)"
   ]
  },
  {
   "cell_type": "markdown",
   "metadata": {},
   "source": [
    "Daha önce Karar Ağaçları'nda bahsedildiği üzere; Karar ağacını tekniğini kullanarak verinin sınıflanması, öğrenme ve sınıflama olmak üzere iki basamaklı bir işlemdir. Öğrenme basamağında önceden bilinen bir eğitim verisi, model oluşturmak amacıyla sınıflama algoritması tarafından test edilir. Sınıflama basamağında ise test veri seti ile karar ağacının doğruluğu test edilir. 4521 örneklik veri kümesi yapılması amacıyla %80 oranında (3616) eğitim (training) ve %20 oranında (905) da test veri kümesine bölünmüştür. Training veri seti ile model oluşturulurken, test veri seti ile de bu modelin doğruluğu test edilecektir. *Sample* fonksiyonu ile toplam veri üzerinden örneklem oluşturulmuştur. Training ve test veri kümelerini data veri kümesi üzerinden rastgele (random) seçilen örnekler oluşturmaktadır. Yani kodları her çalıştırdığımızda farklı örnekler gelmektedir. Örnek olması amacıyla daha önce de kullanılan *head* fonksiyonu ile ilk 6 örnek gösterilmiştir."
   ]
  },
  {
   "cell_type": "code",
   "execution_count": 47,
   "metadata": {
    "collapsed": false
   },
   "outputs": [
    {
     "data": {
      "text/html": [
       "<dl class=dl-horizontal>\n",
       "\t<dt>6</dt>\n",
       "\t\t<dd>no</dd>\n",
       "\t<dt>13</dt>\n",
       "\t\t<dd>no</dd>\n",
       "\t<dt>26</dt>\n",
       "\t\t<dd>no</dd>\n",
       "\t<dt>31</dt>\n",
       "\t\t<dd>yes</dd>\n",
       "\t<dt>34</dt>\n",
       "\t\t<dd>yes</dd>\n",
       "\t<dt>38</dt>\n",
       "\t\t<dd>no</dd>\n",
       "</dl>\n"
      ],
      "text/latex": [
       "\\begin{description*}\n",
       "\\item[6] no\n",
       "\\item[13] no\n",
       "\\item[26] no\n",
       "\\item[31] yes\n",
       "\\item[34] yes\n",
       "\\item[38] no\n",
       "\\end{description*}\n"
      ],
      "text/markdown": [
       "6\n",
       ":   no13\n",
       ":   no26\n",
       ":   no31\n",
       ":   yes34\n",
       ":   yes38\n",
       ":   no\n",
       "\n"
      ],
      "text/plain": [
       "  6  13  26  31  34  38 \n",
       " no  no  no yes yes  no \n",
       "Levels: no yes"
      ]
     },
     "metadata": {},
     "output_type": "display_data"
    }
   ],
   "source": [
    "elif<-rpart(y~.,data=training,method=\"class\")\n",
    "prediction<- predict(elif,test,type=\"class\")\n",
    "head(prediction)"
   ]
  },
  {
   "cell_type": "markdown",
   "metadata": {},
   "source": [
    "#### predict Genel Kullanımı\n",
    "\n",
    "*predict* fonksiyonu rpart nesnesinin tahmin edilen sonucunu bir vektör olarak döndürür.  \n",
    "**predict**(<span style=\"color:blue\"> object </span>,newdata,<span style=\"color:red\"> type=c(\"vector\",\"prob\",\"class\",\"matrix\")</span>  \n",
    "Parametrelerin kullanımı;  \n",
    " <span style=\"color:blue\"> object </span>=rpart sınıfından rpart fonksiyonu tarafından oluşturulan nesnedir. Banka veri kümesi için rpart fonksiyonundan üretilen nesnemiz **elif** idi.  \n",
    " newdata: Tahmin ediciler için gerekli olan değerleri içeren veri çerçevesidir. Kullanılacak newdata %80 oranında bölme işlemi yapılan test veri kümesidir.  \n",
    " (<span style=\"color:blue\"> type </span>: Tahmin edilen değerlerin döndürüldüğü karakter dizisidir. Vector, prob, class, matrix olarak 4 çeşidi vardır. Tercih olarak \"class\" kullanılmıştır.\n",
    " \n",
    " 6 örnek için bakıldığında; tahmin ediciler kullanılarak ; \n",
    " 31 ve 34 numaralı müşterilerin ürünü satın alacağı tahmin edilirken, 6, 13, 26, 38 numaralı müşterilerin ürünü satın almayacağı tahmin edilmiştir. Peki gerçekte de durum bu şekilde mi? \n",
    " \n"
   ]
  },
  {
   "cell_type": "code",
   "execution_count": 48,
   "metadata": {
    "collapsed": false
   },
   "outputs": [
    {
     "data": {
      "text/html": [
       "<table>\n",
       "<thead><tr><th></th><th scope=col>age</th><th scope=col>job</th><th scope=col>marital</th><th scope=col>education</th><th scope=col>default</th><th scope=col>balance</th><th scope=col>housing</th><th scope=col>loan</th><th scope=col>contact</th><th scope=col>day</th><th scope=col>month</th><th scope=col>duration</th><th scope=col>campaign</th><th scope=col>pdays</th><th scope=col>previous</th><th scope=col>poutcome</th><th scope=col>y</th></tr></thead>\n",
       "<tbody>\n",
       "\t<tr><th scope=row>31</th><td>68       </td><td>retired  </td><td>divorced </td><td>secondary</td><td>no       </td><td>4189     </td><td>no       </td><td>no       </td><td>telephone</td><td>14       </td><td>jul      </td><td>897      </td><td>2        </td><td>-1       </td><td>0        </td><td>unknown  </td><td>yes      </td></tr>\n",
       "</tbody>\n",
       "</table>\n"
      ],
      "text/latex": [
       "\\begin{tabular}{r|lllllllllllllllll}\n",
       "  & age & job & marital & education & default & balance & housing & loan & contact & day & month & duration & campaign & pdays & previous & poutcome & y\\\\\n",
       "\\hline\n",
       "\t31 & 68        & retired   & divorced  & secondary & no        & 4189      & no        & no        & telephone & 14        & jul       & 897       & 2         & -1        & 0         & unknown   & yes      \\\\\n",
       "\\end{tabular}\n"
      ],
      "text/markdown": [
       "\n",
       "| <!--/--> | age | job | marital | education | default | balance | housing | loan | contact | day | month | duration | campaign | pdays | previous | poutcome | y | \n",
       "|---|\n",
       "| 31 | 68        | retired   | divorced  | secondary | no        | 4189      | no        | no        | telephone | 14        | jul       | 897       | 2         | -1        | 0         | unknown   | yes       | \n",
       "\n",
       "\n"
      ],
      "text/plain": [
       "   age job     marital  education default balance housing loan contact   day\n",
       "31 68  retired divorced secondary no      4189    no      no   telephone 14 \n",
       "   month duration campaign pdays previous poutcome y  \n",
       "31 jul   897      2        -1    0        unknown  yes"
      ]
     },
     "metadata": {},
     "output_type": "display_data"
    },
    {
     "data": {
      "text/html": [
       "<table>\n",
       "<thead><tr><th></th><th scope=col>age</th><th scope=col>job</th><th scope=col>marital</th><th scope=col>education</th><th scope=col>default</th><th scope=col>balance</th><th scope=col>housing</th><th scope=col>loan</th><th scope=col>contact</th><th scope=col>day</th><th scope=col>month</th><th scope=col>duration</th><th scope=col>campaign</th><th scope=col>pdays</th><th scope=col>previous</th><th scope=col>poutcome</th><th scope=col>y</th></tr></thead>\n",
       "<tbody>\n",
       "\t<tr><th scope=row>13</th><td>36        </td><td>technician</td><td>married   </td><td>tertiary  </td><td>no        </td><td>1109      </td><td>no        </td><td>no        </td><td>cellular  </td><td>13        </td><td>aug       </td><td>328       </td><td>2         </td><td>-1        </td><td>0         </td><td>unknown   </td><td>no        </td></tr>\n",
       "</tbody>\n",
       "</table>\n"
      ],
      "text/latex": [
       "\\begin{tabular}{r|lllllllllllllllll}\n",
       "  & age & job & marital & education & default & balance & housing & loan & contact & day & month & duration & campaign & pdays & previous & poutcome & y\\\\\n",
       "\\hline\n",
       "\t13 & 36         & technician & married    & tertiary   & no         & 1109       & no         & no         & cellular   & 13         & aug        & 328        & 2          & -1         & 0          & unknown    & no        \\\\\n",
       "\\end{tabular}\n"
      ],
      "text/markdown": [
       "\n",
       "| <!--/--> | age | job | marital | education | default | balance | housing | loan | contact | day | month | duration | campaign | pdays | previous | poutcome | y | \n",
       "|---|\n",
       "| 13 | 36         | technician | married    | tertiary   | no         | 1109       | no         | no         | cellular   | 13         | aug        | 328        | 2          | -1         | 0          | unknown    | no         | \n",
       "\n",
       "\n"
      ],
      "text/plain": [
       "   age job        marital education default balance housing loan contact  day\n",
       "13 36  technician married tertiary  no      1109    no      no   cellular 13 \n",
       "   month duration campaign pdays previous poutcome y \n",
       "13 aug   328      2        -1    0        unknown  no"
      ]
     },
     "metadata": {},
     "output_type": "display_data"
    },
    {
     "data": {
      "text/html": [
       "<table>\n",
       "<thead><tr><th></th><th scope=col>age</th><th scope=col>job</th><th scope=col>marital</th><th scope=col>education</th><th scope=col>default</th><th scope=col>balance</th><th scope=col>housing</th><th scope=col>loan</th><th scope=col>contact</th><th scope=col>day</th><th scope=col>month</th><th scope=col>duration</th><th scope=col>campaign</th><th scope=col>pdays</th><th scope=col>previous</th><th scope=col>poutcome</th><th scope=col>y</th></tr></thead>\n",
       "<tbody>\n",
       "\t<tr><th scope=row>34</th><td>32        </td><td>management</td><td>single    </td><td>tertiary  </td><td>no        </td><td>2536      </td><td>yes       </td><td>no        </td><td>cellular  </td><td>26        </td><td>aug       </td><td>958       </td><td>6         </td><td>-1        </td><td>0         </td><td>unknown   </td><td>yes       </td></tr>\n",
       "</tbody>\n",
       "</table>\n"
      ],
      "text/latex": [
       "\\begin{tabular}{r|lllllllllllllllll}\n",
       "  & age & job & marital & education & default & balance & housing & loan & contact & day & month & duration & campaign & pdays & previous & poutcome & y\\\\\n",
       "\\hline\n",
       "\t34 & 32         & management & single     & tertiary   & no         & 2536       & yes        & no         & cellular   & 26         & aug        & 958        & 6          & -1         & 0          & unknown    & yes       \\\\\n",
       "\\end{tabular}\n"
      ],
      "text/markdown": [
       "\n",
       "| <!--/--> | age | job | marital | education | default | balance | housing | loan | contact | day | month | duration | campaign | pdays | previous | poutcome | y | \n",
       "|---|\n",
       "| 34 | 32         | management | single     | tertiary   | no         | 2536       | yes        | no         | cellular   | 26         | aug        | 958        | 6          | -1         | 0          | unknown    | yes        | \n",
       "\n",
       "\n"
      ],
      "text/plain": [
       "   age job        marital education default balance housing loan contact  day\n",
       "34 32  management single  tertiary  no      2536    yes     no   cellular 26 \n",
       "   month duration campaign pdays previous poutcome y  \n",
       "34 aug   958      6        -1    0        unknown  yes"
      ]
     },
     "metadata": {},
     "output_type": "display_data"
    }
   ],
   "source": [
    "df<- data.frame(data)\n",
    "df[31,]\n",
    "df[13,]\n",
    "df[34,]"
   ]
  },
  {
   "cell_type": "markdown",
   "metadata": {},
   "source": [
    "31, 13 ve 24 numaralı müşterilere bakıldığında tahminlerin doğru olduğu gözükmektedir."
   ]
  },
  {
   "cell_type": "code",
   "execution_count": 50,
   "metadata": {
    "collapsed": false
   },
   "outputs": [
    {
     "data": {
      "text/plain": [
       "          \n",
       "prediction  no yes\n",
       "       no  768  72\n",
       "       yes  26  39"
      ]
     },
     "metadata": {},
     "output_type": "display_data"
    }
   ],
   "source": [
    "confusion.matrix <- table(prediction, test$y)\n",
    "confusion.matrix"
   ]
  },
  {
   "cell_type": "markdown",
   "metadata": {},
   "source": [
    "*Confusion Matrix* İlişkili istatistiklerle gözlemlenen ve tahmin edilen sınıfların çapraz tablolarını hesaplar.  \n",
    "* Test veri kümeside toplamda 840 müşterinin mevduatı satın almadığı (no) bilinirken; bunların 768 tanesi satın almaz (no), 72 tanesi de satın alır (yes) şeklinde tahmin edilmiştir. (1.satır)  \n",
    "* Training veri kümesinde toplamda 65 müşterinin mevduatı satın aldığı bilinirken; bunların 26 tanesi satın almaz (no), 39 tanesi de satın alır (yes) şeklinde tahmin edilmiştir. (2.satır)\n",
    "* 905 örneklemli veri kümesinden 768+39=807 örnek doğru tahmin edilerek başarı oranı %89.17 olarak bulunmuştur."
   ]
  },
  {
   "cell_type": "markdown",
   "metadata": {},
   "source": [
    "### Lojistik Regresyon  \n",
    "Lojistik regresyon; cevap değişkeninin kategorik olarak ikili, üçlü veya çoklu olduğu durumlarda açıklayıcı değişkenlerle neden sonuç ilişkisini belirlemede yararlanılan bir yöntemdir. Açıklayıcı değişkenlere göre cevap değişkeninin beklenen değerlerinin olasılık olarak elde edildiği bir regresyon yöntemidir.  Lojistik regresyon analizi, sınıflama ve atama işlemi yapmaya yardımcı olan bir regresyon yöntemidir. Basit ve çoklu regresyon analizlerinde ön koşul olarak normal dağılım ve süreklilik varsayımı aranırken lojistik regreyon analizlerinde böyle bir ön koşul yoktur. Basit regresyon analizinde bağımlı değişkenler ve bağımsız değişkenler sayısal olarak belirtilir. Nitelik olarak belirtilmezler. Örneğin; yaş ile kan basıncı arasında bir ilişki aranacaksa hem yaş hem de kan basıncı sayısal olarak belirtilmelidir. Eğer ki bağımlı değişken nitelik olarak belirtilirse bağımsız değişkenlerle arasındaki ilişki lojistik resresyon yöntemiyle aranır. Lojisitk regresyon tanımını daha iyi anlayabilmek için aşağıda bazı tanımlar verilmiştir. \n",
    "\n",
    "  **Nitel değişken**: Ölçülemez, sadece nitelendirilebilir değişkenlerdir. Örneğin; Cinsiyet: Erkek, Kadın; Eğitim: İlk-Orta-Lise-Yüksek gibi.  \n",
    " **Sayısal değişken**: Kesikli sayısal ve Sürekli sayısal olarak iki gruba ayrılır.  \n",
    " **Kesikli sayısal değişken**: Belirli bir aralıktaki tam sayıları alabilen değişkenlerdir. Örneğin; Nabız sayısı, ölen çocuk sayısı gibi.  \n",
    " **Sürekli sayısal değişken**: Ölçümle belirtilen ve belirli bir aralıktaki bütün desimal değerleri alabilen değişkenlerdir. Örneğin; Kan basıncı ölçümü, Boy uzuluğu, ağırlık gibi  \n",
    " **Bağımlı değişken**: Diğer değişkenler tarafından etkilenen değişkendir.  \n",
    " **Bağımsız değişken**: Bağımlı değişkeni etkileyen değişkendir.  Örneğin; bir öğrencinin başarısı cinsiyete, yaşa ve sosyal durumlarına bağımlı olabilir. \n",
    " \n",
    " Lojistik regresyon analizinin amacı hem sınıflandırma yapmak hem de bağımlı ve bağımsız değişkenler arasındaki ilişkiyi araştırmaktır. Lojistik regresyon analizi daha çok sosyo-ekonomik konuların pazar araştırmalarında kullanılmaktadır. Lojistik analiz yöntemi ilk olarak nüfus artışının matematiksel bir ifadeyle açıklanmasına yönelik araştırmada ortaya sunulmuştur. Lojistik regresyon analizi bağımlı değişkenin sayısına ve kategori sayısına göre 3'e ayrılmaktadır. Eğer bağımlı değişken iki seçenekli kategorik değişkene sahip ise İkili Lojistik Regresyon Analizi (Binaty Logistic Regression) uygulanır. Eğer bağımlı değişken ikiden çok kategorili değişkene sahipse Çok Kategorili İsimsel Lojistik Regresyon Analizi (Multinominal Lojistic Regression) uygulanır. Eğer bağımlı değişken sıralama ölçeğiyle elde edilmişse Sıralı Lojistik Regresyon Analizi (Ordinal Logistic Regression) uygulanır.  \n",
    " \n",
    " Matematiksel olarak lojistik regresyon olasılık, odds ve odds'un logaritmasına dayanır. Olasılık en temel olarak belirli bir tipteki sonuç sayısının toplam sonuçlar içerisindeki oranıdır. Örneğin; bir zar atıldığında 5 gelme olaslığı 1/6' (0,167)'dır. Çünkü zar üzerinde bir tane 5 vardır ve toplamda 6 sonuç vardır. Lojistik regresyonda odds, bir olayın olma olasılığının o olayın olmama olasılığına bölümü olarak tanımlanır.  \n",
    "  $$ Odds = \\frac{p(x)}{1-p(x)}$$  Burada p(x) bir olayın gerçekleşme olasılığını, 1-p(x) ise bir olayın gerçekleşmeme olasılığını göstermektedir. Bir zar atıldığında 5 gelme olasılığına ilişkin odds değeri **0,167/0,833=0,200**'dür. Olasılıkların değeri 0 ile 1 arasında değişirken odds değeri için böyle bir kısıtlama yoktur. Odss değeri 1'den büyük olabilir. Örneğin; bir sınavda öğrencilerin başarılı olma olasılığı 0.80 olsun. Başarılı olmaya ilişkin odds 0.80/0.20=4'tür. Görüldüğü üzere odds değeri 1'den büyük olabilir. Bu örnekte odd'un anlamı başarılı olmanın olasılığı başarısız olmaya göre 4 kat fazladır. 0.50'lik bir olasılık (yani bir olayın olma ya da olmama/ ortaya çıkma ya da çıkmama şansının eşit olma olasılığı) odds'un 1 olması ile sonuçlanır. Odds'un 1'den küçük olması ilgilenilen olasılığın 0.50'den az; 1'den büyük olması ise ilgilenilen olasılığın 0.50'den fazla olduğu anlamına gelir. Odds oranı $\\varphi$ ile gösterilir. Lojistik regresyon analizinde elde edilen sonuç doğrusal olmayan bir fonksiyondur. Lojistik regresyondaki en önemli kavram adını da kendisinden alan \"lojit\" kavramıdır. Lojit odds oranının doğal logaritmasıdır. (ln). Yukarıdaki zar örneğine geri dönülürse bir zarın 5 gelme olasılığına ilişkin odds için lojit değer **ln(0,200)=-1,609**'dur. \n",
    "  \n",
    "*Bazı olasılık değerlerine karşılık gelen Odds ve Log Odds Oranları\n",
    "\n",
    "|Olasılık|Odds|Log Odds|\n",
    "|---|---|---|---|---|\n",
    "|.00|.00|Hesaplanamaz|\n",
    "|.10|.11|-2.20| \n",
    "|.30|.43|-0.85| \n",
    "|.50|1.00|.00| \n",
    "|.70|2.33|0.85| \n",
    "|.90|9.00|2.20|\n",
    "|1.00|Hesaplanamaz|Hesaplanamaz| \n",
    "  \n",
    "  \n",
    "  Olasılık, odds ve lojit kavramlarını tek bir eşitlikte bir araya getirdiğimizde  \n",
    " $$ Y_i=\\frac{e^u}{1+e^u}$$  \n",
    " Burada $Y_i$ i'nci örneğin bağımlı değişkenin kategorilerinin birisinde yer almasına ilşkin kestirilen olasılıktır. e ise 2.718'e eşit bir sabittir. Burada u ise klasik regresyon eşitliğidir. \n",
    " $$u= \\beta_0+\\beta_1X_1+\\beta_2X_2+.....\\beta_kX_k$$  \n",
    " Doğrusal regresyon eşitliği (*u*) odds oranının lojitini oluşturur.\n",
    "     $$ln(\\frac{Y}{1-Y})= \\beta_0+\\beta_1X_1+\\beta_2X_2+.....\\beta_kX $$\n"
   ]
  },
  {
   "cell_type": "markdown",
   "metadata": {},
   "source": [
    "### Uygulama  \n",
    "\n",
    "Lojistik regresyon modelinin kurulmasında SPSS, SAS, R gibi çeşitli istatistik araçları kullanılmaktadır. Bu çalışmada banka veri kümesi üzerinde lojistik regresyon analizi R'da uygulanarak müşterilerin bankaya ait satılan ürünü alıp almayacakları tahmin edilerek bu tahmini ne ölçüde gerçeklendirdiği tespit edilecektir. Bu uygulamada, bağımlı değişkenin (y= Yes, No) iki kategorili olma durumunda olmasından dolayı İkili Lojistik Regresyon Analizi (Binary Logistic Regression) kullanılmıştır. Bu uygulamada yer alan bağımsız değişkenler *age, job, marital, education, default, balance, housing, loan, contact, day, month, duration, campaign, pdays, previous, poutcome'dır.* Lojistik regresyon analizinde tekniklerin uygulanabilmesi için ilk önce verinin temizlenmesi işlemi yapılması gerekmektedir. Verideki bazı değerler silinmiş veya bozulmuş olabilir. Örneğin banka veri kümesinde müşteriye ait yaş, eğitim durumu gibi değişkenlerin boş bırakılması veya birden fazla değer girilmesi sağlıklı bir analiz yapılmasını engelleyecektir. "
   ]
  },
  {
   "cell_type": "code",
   "execution_count": 1,
   "metadata": {
    "collapsed": false
   },
   "outputs": [
    {
     "data": {
      "text/html": [
       "<strong>age.job.marital.education.default.balance.housing.loan.contact.day.month.duration.campaign.pdays.previous.poutcome.y:</strong> 0"
      ],
      "text/latex": [
       "\\textbf{age.job.marital.education.default.balance.housing.loan.contact.day.month.duration.campaign.pdays.previous.poutcome.y:} 0"
      ],
      "text/markdown": [
       "**age.job.marital.education.default.balance.housing.loan.contact.day.month.duration.campaign.pdays.previous.poutcome.y:** 0"
      ],
      "text/plain": [
       "age.job.marital.education.default.balance.housing.loan.contact.day.month.duration.campaign.pdays.previous.poutcome.y \n",
       "                                                                                                                   0 "
      ]
     },
     "metadata": {},
     "output_type": "display_data"
    },
    {
     "data": {
      "text/html": [
       "<strong>age.job.marital.education.default.balance.housing.loan.contact.day.month.duration.campaign.pdays.previous.poutcome.y:</strong> 4521"
      ],
      "text/latex": [
       "\\textbf{age.job.marital.education.default.balance.housing.loan.contact.day.month.duration.campaign.pdays.previous.poutcome.y:} 4521"
      ],
      "text/markdown": [
       "**age.job.marital.education.default.balance.housing.loan.contact.day.month.duration.campaign.pdays.previous.poutcome.y:** 4521"
      ],
      "text/plain": [
       "age.job.marital.education.default.balance.housing.loan.contact.day.month.duration.campaign.pdays.previous.poutcome.y \n",
       "                                                                                                                4521 "
      ]
     },
     "metadata": {},
     "output_type": "display_data"
    }
   ],
   "source": [
    "training.data.raw <- read.csv('Banka.csv',header=T,na.strings=c(\"\"))\n",
    "sapply(training.data.raw,function(x) sum(is.na(x)))\n",
    "sapply(training.data.raw, function(x) length(unique(x)))"
   ]
  },
  {
   "cell_type": "markdown",
   "metadata": {
    "collapsed": true
   },
   "source": [
    "Buradan anlaşıldığı üzere herhangi silinmiş veya bozulmuş değer bulunmamaktadır. Eğer böyle bir değer bulunmuş olsa idi, o değere ait ortalama (mean) değeri yazılarak değer düzeltilebilirdi."
   ]
  },
  {
   "cell_type": "code",
   "execution_count": 56,
   "metadata": {
    "collapsed": false
   },
   "outputs": [
    {
     "data": {
      "text/plain": [
       "\n",
       "Call:\n",
       "glm(formula = y ~ ., family = binomial(link = \"logit\"), data = training)\n",
       "\n",
       "Deviance Residuals: \n",
       "    Min       1Q   Median       3Q      Max  \n",
       "-4.0350  -0.3721  -0.2455  -0.1526   3.0729  \n",
       "\n",
       "Coefficients:\n",
       "                     Estimate Std. Error z value Pr(>|z|)    \n",
       "(Intercept)        -3.001e+00  6.997e-01  -4.288 1.80e-05 ***\n",
       "age                -8.148e-03  8.128e-03  -1.002  0.31611    \n",
       "jobblue-collar     -4.424e-01  2.794e-01  -1.583  0.11332    \n",
       "jobentrepreneur    -1.629e-01  4.288e-01  -0.380  0.70408    \n",
       "jobhousemaid       -3.242e-02  4.606e-01  -0.070  0.94388    \n",
       "jobmanagement       2.566e-02  2.784e-01   0.092  0.92656    \n",
       "jobretired          1.029e+00  3.581e-01   2.874  0.00405 ** \n",
       "jobself-employed    7.650e-02  3.904e-01   0.196  0.84465    \n",
       "jobservices        -7.729e-02  3.096e-01  -0.250  0.80287    \n",
       "jobstudent          1.603e-01  4.367e-01   0.367  0.71356    \n",
       "jobtechnician      -1.350e-01  2.651e-01  -0.509  0.61072    \n",
       "jobunemployed      -5.831e-01  4.782e-01  -1.219  0.22271    \n",
       "jobunknown          7.649e-01  6.328e-01   1.209  0.22677    \n",
       "maritalmarried     -3.561e-01  2.036e-01  -1.749  0.08021 .  \n",
       "maritalsingle      -1.954e-01  2.349e-01  -0.832  0.40553    \n",
       "educationsecondary  2.267e-01  2.343e-01   0.967  0.33337    \n",
       "educationtertiary   3.742e-01  2.697e-01   1.387  0.16539    \n",
       "educationunknown   -4.066e-01  4.303e-01  -0.945  0.34473    \n",
       "defaultyes          7.615e-01  4.443e-01   1.714  0.08651 .  \n",
       "balance             2.634e-05  2.130e-05   1.237  0.21623    \n",
       "housingyes         -2.090e-01  1.564e-01  -1.336  0.18155    \n",
       "loanyes            -5.360e-01  2.262e-01  -2.369  0.01782 *  \n",
       "contacttelephone   -2.198e-01  2.808e-01  -0.783  0.43374    \n",
       "contactunknown     -1.426e+00  2.558e-01  -5.577 2.45e-08 ***\n",
       "day                 2.013e-02  9.326e-03   2.159  0.03087 *  \n",
       "monthaug           -2.565e-01  2.845e-01  -0.902  0.36727    \n",
       "monthdec            5.656e-01  7.421e-01   0.762  0.44599    \n",
       "monthfeb            4.110e-01  3.340e-01   1.230  0.21852    \n",
       "monthjan           -1.315e+00  4.566e-01  -2.879  0.00399 ** \n",
       "monthjul           -7.179e-01  2.842e-01  -2.526  0.01154 *  \n",
       "monthjun            6.505e-01  3.450e-01   1.886  0.05932 .  \n",
       "monthmar            1.315e+00  4.636e-01   2.837  0.00455 ** \n",
       "monthmay           -3.695e-01  2.706e-01  -1.366  0.17205    \n",
       "monthnov           -8.782e-01  3.123e-01  -2.812  0.00492 ** \n",
       "monthoct            1.566e+00  3.822e-01   4.099 4.16e-05 ***\n",
       "monthsep            6.678e-01  4.701e-01   1.420  0.15547    \n",
       "duration            4.421e-03  2.318e-04  19.070  < 2e-16 ***\n",
       "campaign           -5.426e-02  3.015e-02  -1.799  0.07197 .  \n",
       "pdays              -7.194e-04  1.164e-03  -0.618  0.53643    \n",
       "previous            1.354e-03  4.525e-02   0.030  0.97613    \n",
       "poutcomeother       6.620e-01  3.149e-01   2.103  0.03550 *  \n",
       "poutcomesuccess     2.847e+00  3.349e-01   8.502  < 2e-16 ***\n",
       "poutcomeunknown     6.074e-03  3.787e-01   0.016  0.98720    \n",
       "---\n",
       "Signif. codes:  0 '***' 0.001 '**' 0.01 '*' 0.05 '.' 0.1 ' ' 1\n",
       "\n",
       "(Dispersion parameter for binomial family taken to be 1)\n",
       "\n",
       "    Null deviance: 2560.9  on 3615  degrees of freedom\n",
       "Residual deviance: 1687.8  on 3573  degrees of freedom\n",
       "AIC: 1773.8\n",
       "\n",
       "Number of Fisher Scoring iterations: 6\n"
      ]
     },
     "metadata": {},
     "output_type": "display_data"
    }
   ],
   "source": [
    "data<- read.table(\"banka.txt\",header=T,sep=\"\\t\")\n",
    "size<- nrow(data)*0.8\n",
    "index<-sample(1:nrow(data),size=size)\n",
    "training<-data[index,]\n",
    "test<-data[-index,]\n",
    "model <- glm(y~.,family=binomial(link='logit'),data=training)\n",
    "summary(model)"
   ]
  },
  {
   "cell_type": "markdown",
   "metadata": {},
   "source": [
    "Burada; Karar Ağacı algoritmasında yapıldığı gibi Banka veri kümemiz %80 oranında training kümesine ve %20 oranında test kümesine bölünmüştür. Training veri kümesi lojistik regresyon modelinin oluşturulmasında kullanılırken test kümesi ise tahminleme (prediction) işlemi için kullanılacaktır.  \n",
    "\n",
    "#### glm Genel Kullanımı  \n",
    "\n",
    "*glm* doğrusal tahmin ediciler ile birlikte genelleştirilmiş lineer modelleri uygulamak için kullanılan bir fonksiyondur.  \n",
    "**glm**(<span style=\"color:blue\"> formula </span>, family=familytype(**link**=linkfunction),<span style=\"color:red\"> data </span>)  \n",
    "Parametrelerin kullanımı,  \n",
    "<span style=\"color:blue\"> formula </span>=*sonuç~nitelik1+nitelik2+..... *Banka verisinde sonucumuz y alanında saklıdır. 16 tane nitelik olduğundan tek tek yazmak yerine **.** yazılmıştır.,  \n",
    "family= *Modelde kullanılacak hata dağılımını ve link fonksiyonunu (link function) tanımlar. Binomial ailesi için link fonksiyonu *logit* olmaktadır.  \n",
    "<span style=\"color:red\"> data </span>=Veri kümesidir. Banka veri kümesinden %80 oranında bölünen training veri kümesi kullanılmıştır.  \n",
    "\n",
    "summary fonksiyonu ile oluşturulan model özetlenmektedir. Bu tabloda;  \n",
    "\n",
    "**Call** olarak görünen çıktı oluşturduğumuz modeli hatırlatma niteliğindedir.\n",
    "Model çıktısında **Deviance** kelimesini iki kez görüyoruz. Türkçe karşılığı sapma olan deviance , genelleştirilmiş bir doğrusal modelin uyum iyiliğinin bir ölçüsüdür. Veya daha ziyade uyumluluğun  kötü bir ölçüsüdür - daha yüksek rakamlar daha kötü uyum gösterir.  \n",
    "R, iki sapma şekli - boş sapma **(null deviance)** ve kalan sapma **(residual deviance)** - bildirmektedir. Boş sapma, yanıt değişkeninin sadece bağımsız değişkenlerin dahil edildiği rezidüel olarak kalan kesme noktası (büyük ortalama) içeren bir model tarafından ne kadar iyi tahmin edileceğini göstermektedir.\n",
    "\n",
    "Yukarıdaki örneğimizde 3615 derecelik serbestik değerinde 2649.9 luk bir değerimiz var.Bağımsız değişkenler dahil edildiğinde sapma 3573 serbestlik derecesinde 1742.9 a düştü ve önemli bir azalma oldu.Sapma (3615-3573) 42 serbestlik derecesi kaybıyla 907 azaldı.  \n",
    "\n",
    "**Fisher skorlama algoritması**, maksimum olasılık problemlerini sayısal olarak çözmek için Newton'un yönteminin bir türevidir. Örneğimiz  için, Fisher'ın Puan Alma Algoritmasının, uygunluğu gerçekleştirmek için altı yineleme gerektiğini görüyoruz. Fisher scoring modelin gerçekten birleştiği ve bunu yapmakta hiç zorlanmadığı dışında bir bildi vermiyor.\n",
    "\n",
    "\n",
    "\n",
    "\n",
    "\n"
   ]
  },
  {
   "cell_type": "code",
   "execution_count": 61,
   "metadata": {
    "collapsed": false
   },
   "outputs": [
    {
     "data": {
      "text/html": [
       "<dl class=dl-horizontal>\n",
       "\t<dt>1</dt>\n",
       "\t\t<dd>'NO'</dd>\n",
       "\t<dt>7</dt>\n",
       "\t\t<dd>'NO'</dd>\n",
       "\t<dt>8</dt>\n",
       "\t\t<dd>'NO'</dd>\n",
       "\t<dt>17</dt>\n",
       "\t\t<dd>'NO'</dd>\n",
       "\t<dt>19</dt>\n",
       "\t\t<dd>'NO'</dd>\n",
       "\t<dt>29</dt>\n",
       "\t\t<dd>'NO'</dd>\n",
       "</dl>\n"
      ],
      "text/latex": [
       "\\begin{description*}\n",
       "\\item[1] 'NO'\n",
       "\\item[7] 'NO'\n",
       "\\item[8] 'NO'\n",
       "\\item[17] 'NO'\n",
       "\\item[19] 'NO'\n",
       "\\item[29] 'NO'\n",
       "\\end{description*}\n"
      ],
      "text/markdown": [
       "1\n",
       ":   'NO'7\n",
       ":   'NO'8\n",
       ":   'NO'17\n",
       ":   'NO'19\n",
       ":   'NO'29\n",
       ":   'NO'\n",
       "\n"
      ],
      "text/plain": [
       "   1    7    8   17   19   29 \n",
       "\"NO\" \"NO\" \"NO\" \"NO\" \"NO\" \"NO\" "
      ]
     },
     "metadata": {},
     "output_type": "display_data"
    }
   ],
   "source": [
    "predict<- ifelse(predict(model,test,type=\"response\")>0.5,'YES','NO')\n",
    "head(predict)"
   ]
  },
  {
   "cell_type": "markdown",
   "metadata": {},
   "source": [
    "#### predict Genel Kullanımı  \n",
    "\n",
    "*predict* fonksiyonu glm nesnesinin tahmin edilen sonucunu döndürür.  \n",
    "**predict**(<span style=\"color:blue\"> object </span>,newdata,<span style=\"color:red\"> type=c(\"link\", \"response\", \"terms\") </span>   \n",
    "Parametrelerin kullanımı:  \n",
    "<span style=\"color:blue\"> object </span>= glm sınıfından glm fonksiyonu tarafından oluşturulan nesnedir. Banka veri kümesi için glm fonksiyonundan üretilen nesnemiz **model** idi.  \n",
    "*newdata*: Tahmin ediciler için gerekli olan değerleri içeren veri çerçevesidir. Kullanılacak newdata %20 oranında bölme işlemi yapılan test veri kümesidir.  \n",
    "<span style=\"color:red\"> type </span> Tahmin edilen değerlerin türünü içerir. link, response, terms olarak 3 çeşidi vardır. type=\"response\" tahmin edilme olasılığını verir.  \n",
    "\n",
    "\n",
    "6 örnek için bakıldığında; tahmin ediciler kullanılarak ; \n",
    "1, 7, 8, 17, 19, 29 numaralı müşterilerin ürünü satın almayacağı tahmin edilmiştir. Peki gerçekte de durum bu şekilde mi? "
   ]
  },
  {
   "cell_type": "code",
   "execution_count": 62,
   "metadata": {
    "collapsed": false
   },
   "outputs": [
    {
     "data": {
      "text/html": [
       "<table>\n",
       "<thead><tr><th></th><th scope=col>age</th><th scope=col>job</th><th scope=col>marital</th><th scope=col>education</th><th scope=col>default</th><th scope=col>balance</th><th scope=col>housing</th><th scope=col>loan</th><th scope=col>contact</th><th scope=col>day</th><th scope=col>month</th><th scope=col>duration</th><th scope=col>campaign</th><th scope=col>pdays</th><th scope=col>previous</th><th scope=col>poutcome</th><th scope=col>y</th></tr></thead>\n",
       "<tbody>\n",
       "\t<tr><th scope=row>19</th><td>25         </td><td>blue-collar</td><td>single     </td><td>primary    </td><td>no         </td><td>-221       </td><td>yes        </td><td>no         </td><td>unknown    </td><td>23         </td><td>may        </td><td>250        </td><td>1          </td><td>-1         </td><td>0          </td><td>unknown    </td><td>no         </td></tr>\n",
       "</tbody>\n",
       "</table>\n"
      ],
      "text/latex": [
       "\\begin{tabular}{r|lllllllllllllllll}\n",
       "  & age & job & marital & education & default & balance & housing & loan & contact & day & month & duration & campaign & pdays & previous & poutcome & y\\\\\n",
       "\\hline\n",
       "\t19 & 25          & blue-collar & single      & primary     & no          & -221        & yes         & no          & unknown     & 23          & may         & 250         & 1           & -1          & 0           & unknown     & no         \\\\\n",
       "\\end{tabular}\n"
      ],
      "text/markdown": [
       "\n",
       "| <!--/--> | age | job | marital | education | default | balance | housing | loan | contact | day | month | duration | campaign | pdays | previous | poutcome | y | \n",
       "|---|\n",
       "| 19 | 25          | blue-collar | single      | primary     | no          | -221        | yes         | no          | unknown     | 23          | may         | 250         | 1           | -1          | 0           | unknown     | no          | \n",
       "\n",
       "\n"
      ],
      "text/plain": [
       "   age job         marital education default balance housing loan contact day\n",
       "19 25  blue-collar single  primary   no      -221    yes     no   unknown 23 \n",
       "   month duration campaign pdays previous poutcome y \n",
       "19 may   250      1        -1    0        unknown  no"
      ]
     },
     "metadata": {},
     "output_type": "display_data"
    },
    {
     "data": {
      "text/html": [
       "<table>\n",
       "<thead><tr><th></th><th scope=col>age</th><th scope=col>job</th><th scope=col>marital</th><th scope=col>education</th><th scope=col>default</th><th scope=col>balance</th><th scope=col>housing</th><th scope=col>loan</th><th scope=col>contact</th><th scope=col>day</th><th scope=col>month</th><th scope=col>duration</th><th scope=col>campaign</th><th scope=col>pdays</th><th scope=col>previous</th><th scope=col>poutcome</th><th scope=col>y</th></tr></thead>\n",
       "<tbody>\n",
       "\t<tr><th scope=row>29</th><td>56           </td><td>self-employed</td><td>married      </td><td>secondary    </td><td>no           </td><td>784          </td><td>no           </td><td>yes          </td><td>cellular     </td><td>30           </td><td>jul          </td><td>149          </td><td>2            </td><td>-1           </td><td>0            </td><td>unknown      </td><td>no           </td></tr>\n",
       "</tbody>\n",
       "</table>\n"
      ],
      "text/latex": [
       "\\begin{tabular}{r|lllllllllllllllll}\n",
       "  & age & job & marital & education & default & balance & housing & loan & contact & day & month & duration & campaign & pdays & previous & poutcome & y\\\\\n",
       "\\hline\n",
       "\t29 & 56            & self-employed & married       & secondary     & no            & 784           & no            & yes           & cellular      & 30            & jul           & 149           & 2             & -1            & 0             & unknown       & no           \\\\\n",
       "\\end{tabular}\n"
      ],
      "text/markdown": [
       "\n",
       "| <!--/--> | age | job | marital | education | default | balance | housing | loan | contact | day | month | duration | campaign | pdays | previous | poutcome | y | \n",
       "|---|\n",
       "| 29 | 56            | self-employed | married       | secondary     | no            | 784           | no            | yes           | cellular      | 30            | jul           | 149           | 2             | -1            | 0             | unknown       | no            | \n",
       "\n",
       "\n"
      ],
      "text/plain": [
       "   age job           marital education default balance housing loan contact \n",
       "29 56  self-employed married secondary no      784     no      yes  cellular\n",
       "   day month duration campaign pdays previous poutcome y \n",
       "29 30  jul   149      2        -1    0        unknown  no"
      ]
     },
     "metadata": {},
     "output_type": "display_data"
    }
   ],
   "source": [
    "df<- data.frame(data)\n",
    "df[19,]\n",
    "df[29,]\n"
   ]
  },
  {
   "cell_type": "markdown",
   "metadata": {},
   "source": [
    "19, 29 numaralı müşterilere bakıldığında tahminlerin doğru olduğu gözükmektedir."
   ]
  },
  {
   "cell_type": "markdown",
   "metadata": {},
   "source": [
    "### Lojistik regesyon modelinin performansı  \n",
    "\n",
    "Bir lojistik regresyon modelinin performansını değerlendirmek için herhangi bir programlama dilinde(SAS,R,Phyton) bazı noktalara dikkat etmek gereklidir.  \n",
    "1. **AIC** (Akaike Bilgi Kriterleri): Lojistik regresyonda ayarlanmış R²'nin benzer ölçüsü AIC'dir. AIC, model katsayılarının sayısı için modeli cezalandıran uygun ölçüttür. Bu nedenle, her zaman minimum AIC değerli modeli tercih edilmelidir.  \n",
    "2. **Null Deviance** sadece bir kesme noktası olan bir model tarafından öngörülen yanıtı,Residual Deviance Artık sapma, bağımsız değişken ekleme üzerine bir model tarafından öngörülen yanıtı gösterir.Değerleri azaltmak modeli daha iyi kullanmaya yardımcı olacaktır.  \n",
    "3. **Confusion Matrix**: Gerçek-Öngörülen değerlerin tablolaştırma biçimidir.. Bu, modelin doğruluğunu bulmamıza ve gereğinden fazla uyulmasına  yardımcı olur.  \n",
    "4. **ROC Eğrisi**: Alıcı İşlemsel Karakteristiği (ROC), gerçek pozitif oran (hassasiyet) ve yanlış pozitif oran (1 özgüllük) arasındaki dengeleri değerlendirerek modelin performansını özetler. ROC'yi çizmek için, p> 0.5 varsayılır, çünkü başarı oranından daha çok endişelenilir. ROC, p> 0.5 olası tüm değerler için tahmini gücü özetler. Eğri altındaki alan (AUC), doğruluk indeksi (A) veya uyum endeksi olarak anılır, ROC eğrisi için mükemmel bir performans metriğidir. Eğri altındaki alanı daha yüksek hale getirilirse , modelin tahmin gücü daha iyi olur.\n"
   ]
  },
  {
   "cell_type": "code",
   "execution_count": 60,
   "metadata": {
    "collapsed": false
   },
   "outputs": [
    {
     "data": {
      "text/plain": [
       "       \n",
       "predict  no yes\n",
       "    NO  771  72\n",
       "    YES  24  38"
      ]
     },
     "metadata": {},
     "output_type": "display_data"
    }
   ],
   "source": [
    "confusion_matrix<-table(predict,test$y)\n",
    "confusion_matrix"
   ]
  },
  {
   "cell_type": "markdown",
   "metadata": {},
   "source": [
    "* Test veri kümeside toplamda 843 müşterinin mevduatı satın almadığı (no) bilinirken; bunların 771 tanesi satın almaz (no), 72 tanesi de satın alır (yes) şeklinde tahmin edilmiştir. (1.satır)  \n",
    "* Training veri kümesinde toplamda 62 müşterinin mevduatı satın aldığı bilinirken; bunların 24 tanesi satın almaz (no), 38 tanesi de satın alır (yes) şeklinde tahmin edilmiştir. (2.satır)\n",
    "* 905 örneklemli veri kümesinden 771+38=809 örnek doğru tahmin edilerek başarı oranı %89.39 olarak bulunmuştur."
   ]
  },
  {
   "cell_type": "code",
   "execution_count": 64,
   "metadata": {
    "collapsed": false
   },
   "outputs": [
    {
     "data": {
      "image/png": "[encoded data removed]",
      "text/plain": [
       "plot without title"
      ]
     },
     "metadata": {},
     "output_type": "display_data"
    }
   ],
   "source": [
    "library(ROCR)\n",
    "p <- predict(model, newdata=test, type=\"response\")\n",
    "pr <- prediction(p, test$y)\n",
    "prf <- performance(pr, measure = \"tpr\", x.measure = \"fpr\")\n",
    "plot(prf)\n"
   ]
  },
  {
   "cell_type": "markdown",
   "metadata": {},
   "source": [
    "Son adımda ROCR paketi yüklenerek, performans ölçütlerinden biri olan ROCR eğrisi çizdirilmiştir. True positive rate (TPR)'ye karşılık False Positive Rate (FPR) karşılık gelmektedir."
   ]
  },
  {
   "cell_type": "markdown",
   "metadata": {
    "collapsed": true
   },
   "source": [
    "### SONUÇ\n",
    "\n",
    "Banka veri setine Karar Ağaçları ve Lojistik Regresyon algoritmaları uygulanarak alınan sonuçları karşılaaştırılsak; her iki algoritmada da veri setinin %80'i model oluşturmada kullanılırken; %20'si test aşamasında kullanılmıştır. Confusion matrix ile çıkan tahminlerin doğruluk oranı hesaplandığında %89.17 doğruluk oranı ile karar ağaçları algoritması, %89.39 doğruluk oranı ile lojistik regresyon algoritması bulunmuştur. Görüldüğü üzere birbirine oldukça yakın bir değerdedir. "
   ]
  },
  {
   "cell_type": "code",
   "execution_count": null,
   "metadata": {
    "collapsed": true
   },
   "outputs": [],
   "source": []
  }
 ],
 "metadata": {
  "kernelspec": {
   "display_name": "R",
   "language": "R",
   "name": "ir"
  },
  "language_info": {
   "codemirror_mode": "r",
   "file_extension": ".r",
   "mimetype": "text/x-r-source",
   "name": "R",
   "pygments_lexer": "r",
   "version": "3.3.2"
  }
 },
 "nbformat": 4,
 "nbformat_minor": 2
}
